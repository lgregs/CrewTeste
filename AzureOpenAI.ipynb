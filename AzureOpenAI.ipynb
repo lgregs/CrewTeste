{
  "nbformat": 4,
  "nbformat_minor": 0,
  "metadata": {
    "colab": {
      "provenance": [],
      "authorship_tag": "ABX9TyMBSjTE1RorF1XmZ3/3D4Tv",
      "include_colab_link": true
    },
    "kernelspec": {
      "name": "python3",
      "display_name": "Python 3"
    },
    "language_info": {
      "name": "python"
    }
  },
  "cells": [
    {
      "cell_type": "markdown",
      "metadata": {
        "id": "view-in-github",
        "colab_type": "text"
      },
      "source": [
        "<a href=\"https://colab.research.google.com/github/lgregs/CrewTeste/blob/main/AzureOpenAI.ipynb\" target=\"_parent\"><img src=\"https://colab.research.google.com/assets/colab-badge.svg\" alt=\"Open In Colab\"/></a>"
      ]
    },
    {
      "cell_type": "markdown",
      "source": [
        "# Teste de conexão ao GPT da OPEN AI Através da AZURE com Python."
      ],
      "metadata": {
        "id": "wqay1Te5QMuZ"
      }
    },
    {
      "cell_type": "code",
      "source": [
        "!pip install litellm"
      ],
      "metadata": {
        "colab": {
          "base_uri": "https://localhost:8080/"
        },
        "id": "l5x1_jHFQshl",
        "outputId": "10ba73e9-23a1-426b-feb2-6dbf6cc2aa51"
      },
      "execution_count": null,
      "outputs": [
        {
          "output_type": "stream",
          "name": "stdout",
          "text": [
            "Collecting litellm\n",
            "  Downloading litellm-1.53.1-py3-none-any.whl.metadata (33 kB)\n",
            "Requirement already satisfied: aiohttp in /usr/local/lib/python3.10/dist-packages (from litellm) (3.11.2)\n",
            "Requirement already satisfied: click in /usr/local/lib/python3.10/dist-packages (from litellm) (8.1.7)\n",
            "Requirement already satisfied: importlib-metadata>=6.8.0 in /usr/local/lib/python3.10/dist-packages (from litellm) (8.5.0)\n",
            "Requirement already satisfied: jinja2<4.0.0,>=3.1.2 in /usr/local/lib/python3.10/dist-packages (from litellm) (3.1.4)\n",
            "Requirement already satisfied: jsonschema<5.0.0,>=4.22.0 in /usr/local/lib/python3.10/dist-packages (from litellm) (4.23.0)\n",
            "Requirement already satisfied: openai>=1.54.0 in /usr/local/lib/python3.10/dist-packages (from litellm) (1.54.4)\n",
            "Requirement already satisfied: pydantic<3.0.0,>=2.0.0 in /usr/local/lib/python3.10/dist-packages (from litellm) (2.9.2)\n",
            "Collecting python-dotenv>=0.2.0 (from litellm)\n",
            "  Downloading python_dotenv-1.0.1-py3-none-any.whl.metadata (23 kB)\n",
            "Requirement already satisfied: requests<3.0.0,>=2.31.0 in /usr/local/lib/python3.10/dist-packages (from litellm) (2.32.3)\n",
            "Collecting tiktoken>=0.7.0 (from litellm)\n",
            "  Downloading tiktoken-0.8.0-cp310-cp310-manylinux_2_17_x86_64.manylinux2014_x86_64.whl.metadata (6.6 kB)\n",
            "Requirement already satisfied: tokenizers in /usr/local/lib/python3.10/dist-packages (from litellm) (0.20.3)\n",
            "Requirement already satisfied: zipp>=3.20 in /usr/local/lib/python3.10/dist-packages (from importlib-metadata>=6.8.0->litellm) (3.21.0)\n",
            "Requirement already satisfied: MarkupSafe>=2.0 in /usr/local/lib/python3.10/dist-packages (from jinja2<4.0.0,>=3.1.2->litellm) (3.0.2)\n",
            "Requirement already satisfied: attrs>=22.2.0 in /usr/local/lib/python3.10/dist-packages (from jsonschema<5.0.0,>=4.22.0->litellm) (24.2.0)\n",
            "Requirement already satisfied: jsonschema-specifications>=2023.03.6 in /usr/local/lib/python3.10/dist-packages (from jsonschema<5.0.0,>=4.22.0->litellm) (2024.10.1)\n",
            "Requirement already satisfied: referencing>=0.28.4 in /usr/local/lib/python3.10/dist-packages (from jsonschema<5.0.0,>=4.22.0->litellm) (0.35.1)\n",
            "Requirement already satisfied: rpds-py>=0.7.1 in /usr/local/lib/python3.10/dist-packages (from jsonschema<5.0.0,>=4.22.0->litellm) (0.21.0)\n",
            "Requirement already satisfied: anyio<5,>=3.5.0 in /usr/local/lib/python3.10/dist-packages (from openai>=1.54.0->litellm) (3.7.1)\n",
            "Requirement already satisfied: distro<2,>=1.7.0 in /usr/local/lib/python3.10/dist-packages (from openai>=1.54.0->litellm) (1.9.0)\n",
            "Requirement already satisfied: httpx<1,>=0.23.0 in /usr/local/lib/python3.10/dist-packages (from openai>=1.54.0->litellm) (0.27.2)\n",
            "Requirement already satisfied: jiter<1,>=0.4.0 in /usr/local/lib/python3.10/dist-packages (from openai>=1.54.0->litellm) (0.7.1)\n",
            "Requirement already satisfied: sniffio in /usr/local/lib/python3.10/dist-packages (from openai>=1.54.0->litellm) (1.3.1)\n",
            "Requirement already satisfied: tqdm>4 in /usr/local/lib/python3.10/dist-packages (from openai>=1.54.0->litellm) (4.66.6)\n",
            "Requirement already satisfied: typing-extensions<5,>=4.11 in /usr/local/lib/python3.10/dist-packages (from openai>=1.54.0->litellm) (4.12.2)\n",
            "Requirement already satisfied: annotated-types>=0.6.0 in /usr/local/lib/python3.10/dist-packages (from pydantic<3.0.0,>=2.0.0->litellm) (0.7.0)\n",
            "Requirement already satisfied: pydantic-core==2.23.4 in /usr/local/lib/python3.10/dist-packages (from pydantic<3.0.0,>=2.0.0->litellm) (2.23.4)\n",
            "Requirement already satisfied: charset-normalizer<4,>=2 in /usr/local/lib/python3.10/dist-packages (from requests<3.0.0,>=2.31.0->litellm) (3.4.0)\n",
            "Requirement already satisfied: idna<4,>=2.5 in /usr/local/lib/python3.10/dist-packages (from requests<3.0.0,>=2.31.0->litellm) (3.10)\n",
            "Requirement already satisfied: urllib3<3,>=1.21.1 in /usr/local/lib/python3.10/dist-packages (from requests<3.0.0,>=2.31.0->litellm) (2.2.3)\n",
            "Requirement already satisfied: certifi>=2017.4.17 in /usr/local/lib/python3.10/dist-packages (from requests<3.0.0,>=2.31.0->litellm) (2024.8.30)\n",
            "Requirement already satisfied: regex>=2022.1.18 in /usr/local/lib/python3.10/dist-packages (from tiktoken>=0.7.0->litellm) (2024.9.11)\n",
            "Requirement already satisfied: aiohappyeyeballs>=2.3.0 in /usr/local/lib/python3.10/dist-packages (from aiohttp->litellm) (2.4.3)\n",
            "Requirement already satisfied: aiosignal>=1.1.2 in /usr/local/lib/python3.10/dist-packages (from aiohttp->litellm) (1.3.1)\n",
            "Requirement already satisfied: frozenlist>=1.1.1 in /usr/local/lib/python3.10/dist-packages (from aiohttp->litellm) (1.5.0)\n",
            "Requirement already satisfied: multidict<7.0,>=4.5 in /usr/local/lib/python3.10/dist-packages (from aiohttp->litellm) (6.1.0)\n",
            "Requirement already satisfied: propcache>=0.2.0 in /usr/local/lib/python3.10/dist-packages (from aiohttp->litellm) (0.2.0)\n",
            "Requirement already satisfied: yarl<2.0,>=1.17.0 in /usr/local/lib/python3.10/dist-packages (from aiohttp->litellm) (1.17.2)\n",
            "Requirement already satisfied: async-timeout<6.0,>=4.0 in /usr/local/lib/python3.10/dist-packages (from aiohttp->litellm) (4.0.3)\n",
            "Requirement already satisfied: huggingface-hub<1.0,>=0.16.4 in /usr/local/lib/python3.10/dist-packages (from tokenizers->litellm) (0.26.2)\n",
            "Requirement already satisfied: exceptiongroup in /usr/local/lib/python3.10/dist-packages (from anyio<5,>=3.5.0->openai>=1.54.0->litellm) (1.2.2)\n",
            "Requirement already satisfied: httpcore==1.* in /usr/local/lib/python3.10/dist-packages (from httpx<1,>=0.23.0->openai>=1.54.0->litellm) (1.0.7)\n",
            "Requirement already satisfied: h11<0.15,>=0.13 in /usr/local/lib/python3.10/dist-packages (from httpcore==1.*->httpx<1,>=0.23.0->openai>=1.54.0->litellm) (0.14.0)\n",
            "Requirement already satisfied: filelock in /usr/local/lib/python3.10/dist-packages (from huggingface-hub<1.0,>=0.16.4->tokenizers->litellm) (3.16.1)\n",
            "Requirement already satisfied: fsspec>=2023.5.0 in /usr/local/lib/python3.10/dist-packages (from huggingface-hub<1.0,>=0.16.4->tokenizers->litellm) (2024.10.0)\n",
            "Requirement already satisfied: packaging>=20.9 in /usr/local/lib/python3.10/dist-packages (from huggingface-hub<1.0,>=0.16.4->tokenizers->litellm) (24.2)\n",
            "Requirement already satisfied: pyyaml>=5.1 in /usr/local/lib/python3.10/dist-packages (from huggingface-hub<1.0,>=0.16.4->tokenizers->litellm) (6.0.2)\n",
            "Downloading litellm-1.53.1-py3-none-any.whl (6.4 MB)\n",
            "\u001b[2K   \u001b[90m━━━━━━━━━━━━━━━━━━━━━━━━━━━━━━━━━━━━━━━━\u001b[0m \u001b[32m6.4/6.4 MB\u001b[0m \u001b[31m42.6 MB/s\u001b[0m eta \u001b[36m0:00:00\u001b[0m\n",
            "\u001b[?25hDownloading python_dotenv-1.0.1-py3-none-any.whl (19 kB)\n",
            "Downloading tiktoken-0.8.0-cp310-cp310-manylinux_2_17_x86_64.manylinux2014_x86_64.whl (1.2 MB)\n",
            "\u001b[2K   \u001b[90m━━━━━━━━━━━━━━━━━━━━━━━━━━━━━━━━━━━━━━━━\u001b[0m \u001b[32m1.2/1.2 MB\u001b[0m \u001b[31m42.5 MB/s\u001b[0m eta \u001b[36m0:00:00\u001b[0m\n",
            "\u001b[?25hInstalling collected packages: python-dotenv, tiktoken, litellm\n",
            "Successfully installed litellm-1.53.1 python-dotenv-1.0.1 tiktoken-0.8.0\n"
          ]
        }
      ]
    },
    {
      "cell_type": "code",
      "source": [
        "from litellm import completion\n",
        "import os\n",
        "import json"
      ],
      "metadata": {
        "id": "m4Q79AqxQoVJ"
      },
      "execution_count": null,
      "outputs": []
    },
    {
      "cell_type": "code",
      "source": [
        "texto = '''\n",
        "A seguir está o texto extraído de um documento de ordem de compra, me ajude a extrair estas informações dele:\n",
        "       -  Nome do Vendedor,\n",
        "       -  Endereço do Vendedor,\n",
        "       - Nome do Comprador,\n",
        "       - Endereço do Comprador,\n",
        "       - Número da Ordem,\n",
        "       - Data da Ordem,\n",
        "       - Descrição do Produto,\n",
        "       - Quantidade,\n",
        "       - Valor Unitário,\n",
        "       - Valor Total\n",
        "       text0:\n",
        "“BRASIMEX COMERCIAL IMPORTADORA EXPORTADORA LTDA São Paulo, 19 de janeiro de 2024.\n",
        "Alameda Grécia, 708 - Alphaville 06474-010 BARUERI - SP Tel: +55-1 1-4195-5355 E-mail: brasimexcomercial@gmail.com PEDIDO 11398/24 Conforme nossos entendimentos verbais/via e-mail confirmamos ter fechado, por conta e risco de V.\n",
        "Sas.\n",
        "o seguinte negócio: VENDEDOR COMPRADOR COOPERATIVA AGROINDUSTRIAL LAR Av.\n",
        "24 de outubro, 59 – Área Industrial 85.884-000 MEDIANEIRA - PR BRASIL Friendly Mate Foodstuffs (China) Ltd.\n",
        "Room 2305 Nam Wo Hong Building, No.\n",
        "148 Wing Lok Street, Sheung Wan, Hong Kong .\n",
        "MERCADORIA - FRANGO 1 container de: - 27mt Chicken Feet, 35g up, 3x5Kg, $2.650/mt CFR SHANGHAI Marca: LAR SIF 4444/1672 INSTRUÇÕES DOCUMENTAIS - As instruções de embarque seguirão posteriormente.\n",
        "- Favor conseguir 5 dias de free demurrage e 7 dias de free detention.\n",
        "PAGAMENTO EMBARQUE 100% via TT após a aprovação dos documentos.\n",
        "Via marítima para SHANGHAI , sem transbordo em Hong Kong , durante o mês de FEVEREIRO/MARÇO.\n",
        "Devido às comemorações do ANO NOVO CHINÊS , por gentileza, evitar embarques com chegadas à CHINA entre 25 de janeiro e 20 de fevereiro de 2024 .\n",
        "COMISSÃO 1,0% sobre o valor FOB pagável pelo vendedor à BRASIMEX COMERCIAL IMPORTADORA EXPORTADORA LTDA.\n",
        "Nossos agradecimentos pelo negócio.\n",
        "Cordiais saudações De acordo: BRASIMEX LTDA AGENTE COOPERA TIVA AGROINDUSTRIAL LAR VENDEDOR”.\n",
        "\n",
        "Após extraídas as informações monte um arquivo JSON com os campos e os nomes dos campos.\n",
        "'''\n"
      ],
      "metadata": {
        "id": "pEB0hA6qVlT8"
      },
      "execution_count": null,
      "outputs": []
    },
    {
      "cell_type": "code",
      "execution_count": null,
      "metadata": {
        "id": "rW2Ds5MrQIHB"
      },
      "outputs": [],
      "source": [
        "## set ENV variables\n",
        "os.environ[\"AZURE_API_KEY\"] = os.environ(\"AZURE_API_KEY\")\n",
        "os.environ[\"AZURE_API_BASE\"] = os.environ(\"AZURE_API_BASE\")\n",
        "os.environ[\"AZURE_API_VERSION\"] = os.environ(\"AZURE_API_VERSION\")\n",
        "\n",
        "\n",
        "# azure call\n",
        "response = completion(\n",
        "  \"azure/gpt-4o\",\n",
        "  messages = [{\n",
        "            \"role\": \"user\",\n",
        "            \"content\": texto\n",
        "        }]\n",
        ")"
      ]
    },
    {
      "cell_type": "code",
      "source": [
        "response"
      ],
      "metadata": {
        "colab": {
          "base_uri": "https://localhost:8080/"
        },
        "id": "U2GCOjIAQX9Y",
        "outputId": "d517f2c0-d507-48f6-b0c6-d638af1ba01e"
      },
      "execution_count": null,
      "outputs": [
        {
          "output_type": "execute_result",
          "data": {
            "text/plain": [
              "ModelResponse(id='chatcmpl-AYabws4wAVSM5m9RGIkOvjlZXuimP', created=1732807248, model='gpt-4o-2024-05-13', object='chat.completion', system_fingerprint='fp_fa1dad0729', choices=[Choices(finish_reason='stop', index=0, message=Message(content='Aqui está a extração das informações fornecidas no documento e a construção do arquivo JSON solicitado:\\n\\n1. **Nome do Vendedor:** COOPERATIVA AGROINDUSTRIAL LAR\\n2. **Endereço do Vendedor:** Av. 24 de outubro, 59 – Área Industrial, 85.884-000 MEDIANEIRA - PR, BRASIL\\n3. **Nome do Comprador:** Friendly Mate Foodstuffs (China) Ltd.\\n4. **Endereço do Comprador:** Room 2305 Nam Wo Hong Building, No. 148 Wing Lok Street, Sheung Wan, Hong Kong\\n5. **Número da Ordem:** 11398/24\\n6. **Data da Ordem:** 19 de janeiro de 2024\\n7. **Descrição do Produto:** 1 container de 27mt Chicken Feet, 35g up, 3x5Kg\\n8. **Quantidade:** 27mt\\n9. **Valor Unitário:** $2.650/mt\\n10. **Valor Total:** Não especificado diretamente no texto (mas pode ser calculado: 27mt * $2.650/mt = $71.550)\\n\\nArquivo JSON estruturado:\\n\\n```json\\n{\\n  \"Nome do Vendedor\": \"COOPERATIVA AGROINDUSTRIAL LAR\",\\n  \"Endereço do Vendedor\": \"Av. 24 de outubro, 59 – Área Industrial, 85.884-000 MEDIANEIRA - PR, BRASIL\",\\n  \"Nome do Comprador\": \"Friendly Mate Foodstuffs (China) Ltd.\",\\n  \"Endereço do Comprador\": \"Room 2305 Nam Wo Hong Building, No. 148 Wing Lok Street, Sheung Wan, Hong Kong\",\\n  \"Número da Ordem\": \"11398/24\",\\n  \"Data da Ordem\": \"19 de janeiro de 2024\",\\n  \"Descrição do Produto\": \"1 container de 27mt Chicken Feet, 35g up, 3x5Kg\",\\n  \"Quantidade\": \"27mt\",\\n  \"Valor Unitário\": \"$2.650/mt\",\\n  \"Valor Total\": \"$71.550\"\\n}\\n```\\n\\nEste JSON contém todos os campos que você mencionou, com as informações extraídas do documento. Caso haja mais detalhes ou especificidades adicionais a serem incluídas, por favor, me avise.', role='assistant', tool_calls=None, function_call=None))], usage=Usage(completion_tokens=490, prompt_tokens=554, total_tokens=1044, completion_tokens_details=None, prompt_tokens_details=None), service_tier=None, prompt_filter_results=[{'prompt_index': 0, 'content_filter_results': {'hate': {'filtered': False, 'severity': 'safe'}, 'jailbreak': {'filtered': False, 'detected': False}, 'self_harm': {'filtered': False, 'severity': 'safe'}, 'sexual': {'filtered': False, 'severity': 'safe'}, 'violence': {'filtered': False, 'severity': 'safe'}}}])"
            ]
          },
          "metadata": {},
          "execution_count": 18
        }
      ]
    },
    {
      "cell_type": "code",
      "source": [
        "# Verifique se o objeto tem um método to_dict()\n",
        "formatted_json = json.dumps(response.to_dict(), indent=4)\n",
        "\n",
        "# Exibindo o JSON formatado\n",
        "print(formatted_json)\n"
      ],
      "metadata": {
        "colab": {
          "base_uri": "https://localhost:8080/"
        },
        "id": "sUkwGSsgQ9Af",
        "outputId": "de0a99a8-61f5-4cde-df66-819b55ac2b31"
      },
      "execution_count": null,
      "outputs": [
        {
          "output_type": "stream",
          "name": "stdout",
          "text": [
            "{\n",
            "    \"id\": \"chatcmpl-AYabws4wAVSM5m9RGIkOvjlZXuimP\",\n",
            "    \"created\": 1732807248,\n",
            "    \"model\": \"gpt-4o-2024-05-13\",\n",
            "    \"object\": \"chat.completion\",\n",
            "    \"system_fingerprint\": \"fp_fa1dad0729\",\n",
            "    \"choices\": [\n",
            "        {\n",
            "            \"finish_reason\": \"stop\",\n",
            "            \"index\": 0,\n",
            "            \"message\": {\n",
            "                \"content\": \"Aqui est\\u00e1 a extra\\u00e7\\u00e3o das informa\\u00e7\\u00f5es fornecidas no documento e a constru\\u00e7\\u00e3o do arquivo JSON solicitado:\\n\\n1. **Nome do Vendedor:** COOPERATIVA AGROINDUSTRIAL LAR\\n2. **Endere\\u00e7o do Vendedor:** Av. 24 de outubro, 59 \\u2013 \\u00c1rea Industrial, 85.884-000 MEDIANEIRA - PR, BRASIL\\n3. **Nome do Comprador:** Friendly Mate Foodstuffs (China) Ltd.\\n4. **Endere\\u00e7o do Comprador:** Room 2305 Nam Wo Hong Building, No. 148 Wing Lok Street, Sheung Wan, Hong Kong\\n5. **N\\u00famero da Ordem:** 11398/24\\n6. **Data da Ordem:** 19 de janeiro de 2024\\n7. **Descri\\u00e7\\u00e3o do Produto:** 1 container de 27mt Chicken Feet, 35g up, 3x5Kg\\n8. **Quantidade:** 27mt\\n9. **Valor Unit\\u00e1rio:** $2.650/mt\\n10. **Valor Total:** N\\u00e3o especificado diretamente no texto (mas pode ser calculado: 27mt * $2.650/mt = $71.550)\\n\\nArquivo JSON estruturado:\\n\\n```json\\n{\\n  \\\"Nome do Vendedor\\\": \\\"COOPERATIVA AGROINDUSTRIAL LAR\\\",\\n  \\\"Endere\\u00e7o do Vendedor\\\": \\\"Av. 24 de outubro, 59 \\u2013 \\u00c1rea Industrial, 85.884-000 MEDIANEIRA - PR, BRASIL\\\",\\n  \\\"Nome do Comprador\\\": \\\"Friendly Mate Foodstuffs (China) Ltd.\\\",\\n  \\\"Endere\\u00e7o do Comprador\\\": \\\"Room 2305 Nam Wo Hong Building, No. 148 Wing Lok Street, Sheung Wan, Hong Kong\\\",\\n  \\\"N\\u00famero da Ordem\\\": \\\"11398/24\\\",\\n  \\\"Data da Ordem\\\": \\\"19 de janeiro de 2024\\\",\\n  \\\"Descri\\u00e7\\u00e3o do Produto\\\": \\\"1 container de 27mt Chicken Feet, 35g up, 3x5Kg\\\",\\n  \\\"Quantidade\\\": \\\"27mt\\\",\\n  \\\"Valor Unit\\u00e1rio\\\": \\\"$2.650/mt\\\",\\n  \\\"Valor Total\\\": \\\"$71.550\\\"\\n}\\n```\\n\\nEste JSON cont\\u00e9m todos os campos que voc\\u00ea mencionou, com as informa\\u00e7\\u00f5es extra\\u00eddas do documento. Caso haja mais detalhes ou especificidades adicionais a serem inclu\\u00eddas, por favor, me avise.\",\n",
            "                \"role\": \"assistant\",\n",
            "                \"tool_calls\": null,\n",
            "                \"function_call\": null\n",
            "            }\n",
            "        }\n",
            "    ],\n",
            "    \"usage\": {\n",
            "        \"completion_tokens\": 490,\n",
            "        \"prompt_tokens\": 554,\n",
            "        \"total_tokens\": 1044,\n",
            "        \"completion_tokens_details\": null,\n",
            "        \"prompt_tokens_details\": null\n",
            "    },\n",
            "    \"service_tier\": null,\n",
            "    \"prompt_filter_results\": [\n",
            "        {\n",
            "            \"prompt_index\": 0,\n",
            "            \"content_filter_results\": {\n",
            "                \"hate\": {\n",
            "                    \"filtered\": false,\n",
            "                    \"severity\": \"safe\"\n",
            "                },\n",
            "                \"jailbreak\": {\n",
            "                    \"filtered\": false,\n",
            "                    \"detected\": false\n",
            "                },\n",
            "                \"self_harm\": {\n",
            "                    \"filtered\": false,\n",
            "                    \"severity\": \"safe\"\n",
            "                },\n",
            "                \"sexual\": {\n",
            "                    \"filtered\": false,\n",
            "                    \"severity\": \"safe\"\n",
            "                },\n",
            "                \"violence\": {\n",
            "                    \"filtered\": false,\n",
            "                    \"severity\": \"safe\"\n",
            "                }\n",
            "            }\n",
            "        }\n",
            "    ]\n",
            "}\n"
          ]
        }
      ]
    },
    {
      "cell_type": "code",
      "source": [
        "import pickle # Extraindo apenas o \"content\"\n",
        "content = response[\"choices\"][0][\"message\"][\"content\"]\n",
        "\n",
        "# Salvando o \"content\" em um arquivo pickle\n",
        "with open(\"content.pkl\", \"wb\") as f:\n",
        "    pickle.dump(content, f)\n",
        "\n",
        "print(\"Content salvo em 'content.pkl'\")"
      ],
      "metadata": {
        "colab": {
          "base_uri": "https://localhost:8080/"
        },
        "id": "u3XEgk7hmWhj",
        "outputId": "a0828a04-1b00-4247-c360-ec3e123f5636"
      },
      "execution_count": 24,
      "outputs": [
        {
          "output_type": "stream",
          "name": "stdout",
          "text": [
            "Content salvo em 'content.pkl'\n"
          ]
        }
      ]
    },
    {
      "cell_type": "code",
      "source": [
        "# Carregando o conteúdo do arquivo pickle\n",
        "with open(\"content.pkl\", \"rb\") as f:\n",
        "    loaded_content = pickle.load(f)\n",
        "\n",
        "# Exibindo o conteúdo carregado\n",
        "print(loaded_content)"
      ],
      "metadata": {
        "colab": {
          "base_uri": "https://localhost:8080/"
        },
        "id": "0n7O8cWHmYx2",
        "outputId": "4144a274-be63-4bc7-b271-0f194f644871"
      },
      "execution_count": 25,
      "outputs": [
        {
          "output_type": "stream",
          "name": "stdout",
          "text": [
            "Aqui está a extração das informações fornecidas no documento e a construção do arquivo JSON solicitado:\n",
            "\n",
            "1. **Nome do Vendedor:** COOPERATIVA AGROINDUSTRIAL LAR\n",
            "2. **Endereço do Vendedor:** Av. 24 de outubro, 59 – Área Industrial, 85.884-000 MEDIANEIRA - PR, BRASIL\n",
            "3. **Nome do Comprador:** Friendly Mate Foodstuffs (China) Ltd.\n",
            "4. **Endereço do Comprador:** Room 2305 Nam Wo Hong Building, No. 148 Wing Lok Street, Sheung Wan, Hong Kong\n",
            "5. **Número da Ordem:** 11398/24\n",
            "6. **Data da Ordem:** 19 de janeiro de 2024\n",
            "7. **Descrição do Produto:** 1 container de 27mt Chicken Feet, 35g up, 3x5Kg\n",
            "8. **Quantidade:** 27mt\n",
            "9. **Valor Unitário:** $2.650/mt\n",
            "10. **Valor Total:** Não especificado diretamente no texto (mas pode ser calculado: 27mt * $2.650/mt = $71.550)\n",
            "\n",
            "Arquivo JSON estruturado:\n",
            "\n",
            "```json\n",
            "{\n",
            "  \"Nome do Vendedor\": \"COOPERATIVA AGROINDUSTRIAL LAR\",\n",
            "  \"Endereço do Vendedor\": \"Av. 24 de outubro, 59 – Área Industrial, 85.884-000 MEDIANEIRA - PR, BRASIL\",\n",
            "  \"Nome do Comprador\": \"Friendly Mate Foodstuffs (China) Ltd.\",\n",
            "  \"Endereço do Comprador\": \"Room 2305 Nam Wo Hong Building, No. 148 Wing Lok Street, Sheung Wan, Hong Kong\",\n",
            "  \"Número da Ordem\": \"11398/24\",\n",
            "  \"Data da Ordem\": \"19 de janeiro de 2024\",\n",
            "  \"Descrição do Produto\": \"1 container de 27mt Chicken Feet, 35g up, 3x5Kg\",\n",
            "  \"Quantidade\": \"27mt\",\n",
            "  \"Valor Unitário\": \"$2.650/mt\",\n",
            "  \"Valor Total\": \"$71.550\"\n",
            "}\n",
            "```\n",
            "\n",
            "Este JSON contém todos os campos que você mencionou, com as informações extraídas do documento. Caso haja mais detalhes ou especificidades adicionais a serem incluídas, por favor, me avise.\n"
          ]
        }
      ]
    }
  ]
}