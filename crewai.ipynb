{
  "nbformat": 4,
  "nbformat_minor": 0,
  "metadata": {
    "colab": {
      "provenance": [],
      "authorship_tag": "ABX9TyPbiONIwTPvDlKyfMKfTSRa",
      "include_colab_link": true
    },
    "kernelspec": {
      "name": "python3",
      "display_name": "Python 3"
    },
    "language_info": {
      "name": "python"
    }
  },
  "cells": [
    {
      "cell_type": "markdown",
      "metadata": {
        "id": "view-in-github",
        "colab_type": "text"
      },
      "source": [
        "<a href=\"https://colab.research.google.com/github/lgregs/CrewTeste/blob/main/crewai.ipynb\" target=\"_parent\"><img src=\"https://colab.research.google.com/assets/colab-badge.svg\" alt=\"Open In Colab\"/></a>"
      ]
    },
    {
      "cell_type": "markdown",
      "source": [
        "# CREW AI\n",
        "* Gerenciamento de Agentes de IA"
      ],
      "metadata": {
        "id": "qjeLeIYEg-4U"
      }
    },
    {
      "cell_type": "markdown",
      "source": [
        "## Preparação do Ambiente\n",
        "* Instalações, Libs e Variáveis Globais."
      ],
      "metadata": {
        "id": "l5oWVsFIhINb"
      }
    },
    {
      "cell_type": "code",
      "source": [
        "!pip install uv"
      ],
      "metadata": {
        "colab": {
          "base_uri": "https://localhost:8080/",
          "height": 0
        },
        "id": "8kubnKwreEv1",
        "outputId": "4dd76baa-6667-467c-c131-9472304d84dc"
      },
      "execution_count": 1,
      "outputs": [
        {
          "output_type": "stream",
          "name": "stdout",
          "text": [
            "Requirement already satisfied: uv in /usr/local/lib/python3.10/dist-packages (0.5.5)\n"
          ]
        }
      ]
    },
    {
      "cell_type": "code",
      "source": [
        "!poetry install --no-root"
      ],
      "metadata": {
        "id": "yxlN5QuCmD2i",
        "colab": {
          "base_uri": "https://localhost:8080/",
          "height": 0
        },
        "outputId": "7d1380cb-3f56-44f5-b6c1-a44bc6cd6dae"
      },
      "execution_count": 2,
      "outputs": [
        {
          "output_type": "stream",
          "name": "stdout",
          "text": [
            "/bin/bash: line 1: poetry: command not found\n"
          ]
        }
      ]
    },
    {
      "cell_type": "code",
      "execution_count": 3,
      "metadata": {
        "id": "kcrSLS6Rczk8"
      },
      "outputs": [],
      "source": [
        "!pip install -q crewai crewai_tools"
      ]
    },
    {
      "cell_type": "code",
      "source": [
        "#!crewai create crew SmartReader"
      ],
      "metadata": {
        "id": "d7CiNm6SdEz3"
      },
      "execution_count": 4,
      "outputs": []
    },
    {
      "cell_type": "code",
      "source": [
        "#!crewai"
      ],
      "metadata": {
        "id": "8NgWkqXdeHMl"
      },
      "execution_count": 5,
      "outputs": []
    },
    {
      "cell_type": "code",
      "source": [
        "pip freeze > requirements.txt"
      ],
      "metadata": {
        "id": "_JoHFo-IU6xI"
      },
      "execution_count": 6,
      "outputs": []
    },
    {
      "cell_type": "code",
      "source": [
        "from google.colab import drive\n",
        "drive.mount('/content/drive')"
      ],
      "metadata": {
        "colab": {
          "base_uri": "https://localhost:8080/"
        },
        "id": "479IYPT4GhS-",
        "outputId": "8b5204b0-1d9c-4ab8-bf22-debcd01d154e"
      },
      "execution_count": 1,
      "outputs": [
        {
          "output_type": "stream",
          "name": "stdout",
          "text": [
            "Mounted at /content/drive\n"
          ]
        }
      ]
    },
    {
      "cell_type": "code",
      "source": [],
      "metadata": {
        "id": "RwwN2H27G3t2"
      },
      "execution_count": null,
      "outputs": []
    },
    {
      "cell_type": "code",
      "source": [
        "from crewai import Agent, Task, Crew, LLM\n",
        "import os\n",
        "from google.colab import userdata\n",
        "from crewai_tools import SerperDevTool, ScrapeWebsiteTool, PDFSearchTool, FileReadTool, JSONSearchTool"
      ],
      "metadata": {
        "id": "Lg_aElWfc7TR"
      },
      "execution_count": 7,
      "outputs": []
    },
    {
      "cell_type": "code",
      "source": [
        "# Criar os diretorios caso não existam ...\n",
        "#os.makedirs(\"/content/paths/pdf\", exist_ok=True)\n",
        "#os.makedirs(\"/content/paths/txt\", exist_ok=True)\n",
        "#os.makedirs(\"/content/paths/json\", exist_ok=True)\n",
        "\n"
      ],
      "metadata": {
        "colab": {
          "base_uri": "https://localhost:8080/",
          "height": 0
        },
        "id": "zVWLS0SZRGtG",
        "outputId": "5b018d7b-7fdd-43ae-b1bb-201658cc7b2b"
      },
      "execution_count": 25,
      "outputs": [
        {
          "output_type": "stream",
          "name": "stdout",
          "text": [
            "Arquivos na pasta PDF: ['PO 144899.pdf', 'Pedido 11398_24 Lar - Friendly Mate.pdf']\n"
          ]
        }
      ]
    },
    {
      "cell_type": "code",
      "source": [
        "# Variaveis Globais\n",
        "caminho_pdf = \"/content/drive/MyDrive/CrewPaths/pdf\"\n",
        "caminho_txt =\"/content/drive/MyDrive/CrewPaths/txt\"\n",
        "caminho_json = \"/content/drive/MyDrive/CrewPaths/json\"\n",
        "dados = \" 'Nome do Vendedor', 'Endereço do Vendedor', 'Nome do Comprador', 'Endereço do Comprador', 'Número da Ordem', 'Data da Ordem', 'Descrição do Produto', 'Quantidade', 'Valor Unitário', 'Valor Total' \""
      ],
      "metadata": {
        "id": "l2VhdvFlq4SA"
      },
      "execution_count": 8,
      "outputs": []
    },
    {
      "cell_type": "code",
      "source": [
        "# Verificar se os pdfs estao na pasta\n",
        "print(\"Arquivos na pasta PDF:\", os.listdir(\"/content/drive/MyDrive/CrewPaths/pdf\"))"
      ],
      "metadata": {
        "id": "oKXwgSUIHQiL"
      },
      "execution_count": null,
      "outputs": []
    },
    {
      "cell_type": "markdown",
      "source": [
        "### Api Keys"
      ],
      "metadata": {
        "id": "aCw2FazkhzPa"
      }
    },
    {
      "cell_type": "code",
      "source": [
        "from dotenv import load_dotenv\n",
        "load_dotenv()"
      ],
      "metadata": {
        "colab": {
          "base_uri": "https://localhost:8080/",
          "height": 0
        },
        "id": "573XBnGKq-Ha",
        "outputId": "a18016f1-7fb1-4517-ccbe-6647d7ad6c11"
      },
      "execution_count": 9,
      "outputs": [
        {
          "output_type": "execute_result",
          "data": {
            "text/plain": [
              "False"
            ]
          },
          "metadata": {},
          "execution_count": 9
        }
      ]
    },
    {
      "cell_type": "code",
      "source": [
        "# OPEN AI (LLM)\n",
        "os.environ[\"AZURE_API_KEY\"] = userdata.get('AZURE_API_KEY')\n",
        "os.environ[\"AZURE_API_BASE\"] = userdata.get('AZURE_API_BASE')\n",
        "os.environ[\"AZURE_API_VERSION\"] = userdata.get('AZURE_API_VERSION')\n",
        "\n",
        "#os.environ[\"SERPER_API_KEY\"] = userdata.get('SERPERKEY')\n",
        "# SERPER (Motor de pesquisas)"
      ],
      "metadata": {
        "id": "jqDYcd6mdZzL"
      },
      "execution_count": 10,
      "outputs": []
    },
    {
      "cell_type": "code",
      "source": [
        "os.environ[\"OPENAI_API_KEY\"] = \"chave\"\n",
        "os.environ[\"OPENAI_API_BASE\"] = \"url\"\n",
        "os.environ[\"OPENAI_API_VERSION\"] = \"2024-08-01-preview\"\n",
        "os.environ[\"OPENAI_DEPLOYMENT_NAME\"] = \"azure/gpt-4o\"  # Nome do deployment"
      ],
      "metadata": {
        "id": "rJgTeFlVxq5F"
      },
      "execution_count": 11,
      "outputs": []
    },
    {
      "cell_type": "code",
      "source": [
        "from crewai import LLM\n",
        "\n",
        "llm = LLM(\n",
        "    model=\"azure/gpt-4\",\n",
        "    temperature=0.8,\n",
        "    max_tokens=150,\n",
        "    top_p=0.9,\n",
        "    frequency_penalty=0.1,\n",
        "    presence_penalty=0.1,\n",
        "    stop=[\"END\"],\n",
        "    seed=42,\n",
        "    base_url=\"url\",\n",
        "    api_key=\"chave\",\n",
        "    api_version=\"2024-08-01-preview\"\n",
        "\n",
        ")"
      ],
      "metadata": {
        "id": "PDvwf7ljs6IJ"
      },
      "execution_count": 12,
      "outputs": []
    },
    {
      "cell_type": "markdown",
      "source": [
        "### TOOLS"
      ],
      "metadata": {
        "id": "Wjrz_CtT4qNJ"
      }
    },
    {
      "cell_type": "code",
      "source": [
        "# Tools utilizadas.\n",
        "#search_tool = SerperDevTool()\n",
        "scrape_tool = ScrapeWebsiteTool()\n",
        "pdf_tool = PDFSearchTool()\n",
        "file_tool = FileReadTool()\n",
        "json_tool = JSONSearchTool()"
      ],
      "metadata": {
        "id": "KsNDyvgZiWpI"
      },
      "execution_count": 13,
      "outputs": []
    },
    {
      "cell_type": "markdown",
      "source": [
        "## Funções"
      ],
      "metadata": {
        "id": "kvdcm4fU_AVe"
      }
    },
    {
      "cell_type": "markdown",
      "source": [
        "## Agentes"
      ],
      "metadata": {
        "id": "qibgxFe3GObQ"
      }
    },
    {
      "cell_type": "code",
      "source": [
        "PDFReaderAgent = Agent(\n",
        "    role='Especialista em leitura de arquivos PDF.',\n",
        "    goal=\"Ler o PDF e extrair texto do PDF da ordem de compra em {caminhoPdf}.\",\n",
        "    backstory=\"Com vasta experiência em processamento de documentos, o PDFReaderAgent é especialista em extrair informações precisas e relevantes de arquivos PDF.\",\n",
        "    tools=[pdf_tool, file_tool],\n",
        "    llm=llm,\n",
        "    verbose=True\n",
        "\n",
        ")"
      ],
      "metadata": {
        "id": "sISn14TDN_cI"
      },
      "execution_count": 14,
      "outputs": []
    },
    {
      "cell_type": "code",
      "source": [
        "TextFileWriterAgent = Agent(\n",
        "    role='Especialista em Salvar Arquivos de Texto',\n",
        "    goal=\"Salvar o texto extraído do PDF em um arquivo de texto em {caminhoTxt}\",\n",
        "    backstory=\"TextFileWriterAgent é conhecido por sua precisão e eficiência em manipulação de arquivos de texto,\"\n",
        "    \"garantindo que os dados sejam salvos corretamente para uso futuro.\",\n",
        "    tools=[file_tool, json_tool],\n",
        "    llm=llm,\n",
        "    verbose=True\n",
        "\n",
        ")"
      ],
      "metadata": {
        "id": "xAdq08gV6Vew"
      },
      "execution_count": 15,
      "outputs": []
    },
    {
      "cell_type": "code",
      "source": [
        "DataExtractorAgent = Agent(\n",
        "    role='Especialista em Extração de Dados',\n",
        "    goal=\"Extrair informações específicas do texto da ordem de compra salvo no arquivo de texto em {caminhoTxt}\",\n",
        "    backstory=\"DataExtractorAgent tem uma habilidade especial para identificar e extrair dados importantes de grandes volumes de texto,\"\n",
        "    \"tornando-o indispensável para tarefas de análise de dados\",\n",
        "    tools=[file_tool, json_tool],\n",
        "    llm=llm,\n",
        "    verbose=True\n",
        "\n",
        ")"
      ],
      "metadata": {
        "id": "qA-of6g07D1i"
      },
      "execution_count": 16,
      "outputs": []
    },
    {
      "cell_type": "code",
      "source": [
        "JSONWriterAgent = Agent(\n",
        "    role='Especialista em Estruturação de Dados',\n",
        "    goal=\"Estruturar as informações extraídas em um arquivo JSON em {caminhoTxt}\",\n",
        "    backstory=\"Com uma paixão por organização e estruturação de dados, JSONWriterAgent garante que todas as informações sejam apresentadas de forma clara e acessível.\",\n",
        "    tools=[file_tool, json_tool],\n",
        "    llm=llm,\n",
        "    verbose=True\n",
        "\n",
        ")"
      ],
      "metadata": {
        "id": "AFKmDqwUHJJZ"
      },
      "execution_count": 17,
      "outputs": []
    },
    {
      "cell_type": "markdown",
      "source": [
        "### Tasks"
      ],
      "metadata": {
        "id": "pvpEG1wvGSMM"
      }
    },
    {
      "cell_type": "code",
      "source": [
        "read_pdf_task = Task(\n",
        "    description = (\n",
        "        \"Ler e extrair todo o texto do aquivo PDF da ordem de compra utilizando o caminho fornecido {caminhoPdf}\"\n",
        "        \"Garantir que todo o texto foi extraído para futuro processamento.\"\n",
        "    ),\n",
        "    agent=PDFReaderAgent,\n",
        "    expected_output=\"Realizar a extração de todo o texto dos arquivos PDF.\",\n",
        "    verbose=True\n",
        ")"
      ],
      "metadata": {
        "id": "84B5WI3bGTXT"
      },
      "execution_count": 18,
      "outputs": []
    },
    {
      "cell_type": "code",
      "source": [
        "saveTxt = Task(\n",
        "    description=(\n",
        "        \"Salvar todo o texto extraído pelo agente readPdf em um arquivo txt localizado em {caminhTtxt}.\"\n",
        "    ),\n",
        "    agent=TextFileWriterAgent,\n",
        "    expected_output=\"Um arquivo de Texto contendo todo o texto estraído do PDF salvo no diretório {caminhoTxt}. \",\n",
        "    verbose=True\n",
        ")"
      ],
      "metadata": {
        "id": "F8qFg1E39-pT"
      },
      "execution_count": 19,
      "outputs": []
    },
    {
      "cell_type": "code",
      "source": [
        "extract_data_task = Task(\n",
        "    description = (\n",
        "        \"Identificar e extrair as seguintes informações específicas do texto salvo em {caminhoTxt}: {tema}.\"\n",
        "),\n",
        "    agent=DataExtractorAgent,\n",
        "    expected_output=\"Informações especificas extraídas e organizadas em um formato estruturado\",\n",
        "    verbose=True)"
      ],
      "metadata": {
        "id": "BF5wy7fJ9xr_"
      },
      "execution_count": 20,
      "outputs": []
    },
    {
      "cell_type": "code",
      "source": [
        "write_json_task = Task(\n",
        "    description = (\n",
        "        \"Estruturar as informações extraídas em um arquivo JSON no caminho {caminhoJson}\"\n",
        "    ),\n",
        "    agent = JSONWriterAgent,\n",
        "    expected_output=\"Arquivo JSON contendo as informações extraídas e estruturadas.\",\n",
        "    verbose=True\n",
        ")"
      ],
      "metadata": {
        "id": "2HUEBphNuOHS"
      },
      "execution_count": 21,
      "outputs": []
    },
    {
      "cell_type": "markdown",
      "source": [
        "## CREW SETUP"
      ],
      "metadata": {
        "id": "AfmnBTeJ_-6J"
      }
    },
    {
      "cell_type": "code",
      "source": [
        "equipe = Crew(\n",
        "    agents=[PDFReaderAgent, TextFileWriterAgent, DataExtractorAgent, JSONWriterAgent],\n",
        "    tasks=[read_pdf_task, saveTxt, extract_data_task, write_json_task],\n",
        "    verbose=True\n",
        ")"
      ],
      "metadata": {
        "id": "edu8hlNFAAwu"
      },
      "execution_count": 22,
      "outputs": []
    },
    {
      "cell_type": "code",
      "source": [
        "# data = variavel contendo os valores que devem ser retirados do texto dos pdfs\n",
        "entradas = {\"tema\": dados,\"caminhoPdf\":caminho_pdf,\"caminhoTxt\":caminho_txt, \"caminhoJson\": caminho_json}\n",
        "#resultado = equipe.kickoff(inputs=entradas)"
      ],
      "metadata": {
        "id": "ZwolQX0wqxuS"
      },
      "execution_count": 23,
      "outputs": []
    },
    {
      "cell_type": "code",
      "source": [
        "def validar_arquivo(caminho):\n",
        "    if not os.path.exists(caminho):\n",
        "        print(f\"Erro: Arquivo não encontrado - {caminho}\")\n",
        "        return False\n",
        "    return True"
      ],
      "metadata": {
        "id": "B6OXKYOERU-c"
      },
      "execution_count": 26,
      "outputs": []
    },
    {
      "cell_type": "code",
      "source": [
        "# ATUALIZAÇÃO DO FORMATO DE EXECUÇÃO DO PROJETO\n",
        "\n",
        "def processar_pdfs():\n",
        "    # Listar arquivos PDF\n",
        "    arquivos_pdf = [f for f in os.listdir(caminho_pdf) if f.endswith('.pdf')]\n",
        "\n",
        "    for arquivo in arquivos_pdf:\n",
        "        current_file = os.path.join(caminho_pdf, arquivo)\n",
        "        print(f\"Processando: {current_file}\")\n",
        "\n",
        "        # Validar existência do arquivo\n",
        "        if not validar_arquivo(current_file):\n",
        "            continue\n",
        "\n",
        "        # Configurar entradas para o Crew\n",
        "        entradas = {\n",
        "            \"tema\": dados,\n",
        "            \"caminhoPdf\": current_file,\n",
        "            \"caminhoTxt\": os.path.join(caminho_txt, f\"{os.path.splitext(arquivo)[0]}.txt\"),\n",
        "            \"caminhoJson\": os.path.join(caminho_json, f\"{os.path.splitext(arquivo)[0]}.json\"),\n",
        "        }\n",
        "\n",
        "        # Executar Crew\n",
        "        try:\n",
        "            resultado = equipe.kickoff(inputs=entradas)\n",
        "            print(f\"Resultado para {arquivo}: {resultado}\")\n",
        "        except Exception as e:\n",
        "            print(f\"Erro ao processar {arquivo}: {str(e)}\")\n",
        "\n",
        "processar_pdfs()\n"
      ],
      "metadata": {
        "colab": {
          "base_uri": "https://localhost:8080/",
          "height": 10161
        },
        "id": "tI8xNOzXR-V5",
        "outputId": "5a1773b4-e2ef-4d6c-dcea-d30ac31ae5fc"
      },
      "execution_count": 29,
      "outputs": [
        {
          "output_type": "stream",
          "name": "stdout",
          "text": [
            "Processando: /content/paths/pdf/PO 144899.pdf\n",
            "\u001b[1m\u001b[95m# Agent:\u001b[00m \u001b[1m\u001b[92mEspecialista em leitura de arquivos PDF.\u001b[00m\n",
            "\u001b[95m## Task:\u001b[00m \u001b[92mLer e extrair todo o texto do aquivo PDF da ordem de compra utilizando o caminho fornecido /content/paths/pdf/PO 144899.pdfGarantir que todo o texto foi extraído para futuro processamento.\u001b[00m\n",
            "\n",
            "\n",
            "\u001b[1m\u001b[95m# Agent:\u001b[00m \u001b[1m\u001b[92mEspecialista em leitura de arquivos PDF.\u001b[00m\n",
            "\u001b[95m## Thought:\u001b[00m \u001b[92mThought: Eu preciso ler o conteúdo do arquivo PDF especificado para extrair todo o texto. Vou utilizar a ferramenta \"Read a file's content\" para realizar essa ação.\u001b[00m\n",
            "\u001b[95m## Using tool:\u001b[00m \u001b[92mRead a file's content\u001b[00m\n",
            "\u001b[95m## Tool Input:\u001b[00m \u001b[92m\n",
            "\"{\\\"file_path\\\": \\\"/content/paths/pdf/PO 144899.pdf\\\"}\"\u001b[00m\n",
            "\u001b[95m## Tool Output:\u001b[00m \u001b[92m\n",
            "Fail to read the file /content/paths/pdf/PO 144899.pdf. Error: 'utf-8' codec can't decode byte 0xb5 in position 11: invalid start byte\n",
            "\n",
            "\n",
            "You ONLY have access to the following tools, and should NEVER make up tools that are not listed here:\n",
            "\n",
            "Tool Name: Search a PDF's content\n",
            "Tool Arguments: {'query': {'description': \"Mandatory query you want to use to search the PDF's content\", 'type': 'str'}, 'pdf': {'description': 'Mandatory pdf path you want to search', 'type': 'str'}}\n",
            "Tool Description: A tool that can be used to semantic search a query from a PDF's content.\n",
            "Tool Name: Read a file's content\n",
            "Tool Arguments: {'file_path': {'description': 'Mandatory file full path to read the file', 'type': 'str'}}\n",
            "Tool Description: A tool that can be used to read a file's content.\n",
            "\n",
            "Use the following format:\n",
            "\n",
            "Thought: you should always think about what to do\n",
            "Action: the action to take, only one name of [Search a PDF's content, Read a file's content], just the name, exactly as it's written.\n",
            "Action Input: the input to the action, just a simple python dictionary, enclosed in curly braces, using \" to wrap keys and values.\n",
            "Observation: the result of the action\n",
            "\n",
            "Once all necessary information is gathered:\n",
            "\n",
            "Thought: I now know the final answer\n",
            "Final Answer: the final answer to the original input question\n",
            "\u001b[00m\n"
          ]
        },
        {
          "output_type": "stream",
          "name": "stderr",
          "text": [
            "Inserting batches in chromadb:   0%|          | 0/1 [00:00<?, ?it/s]\n",
            "Inserting batches in chromadb:   0%|          | 0/1 [00:00<?, ?it/s]\n",
            "Inserting batches in chromadb:   0%|          | 0/1 [00:00<?, ?it/s]\n",
            "Inserting batches in chromadb:   0%|          | 0/1 [00:00<?, ?it/s]\n",
            "Inserting batches in chromadb:   0%|          | 0/1 [00:00<?, ?it/s]\n",
            "Inserting batches in chromadb:   0%|          | 0/1 [00:00<?, ?it/s]\n"
          ]
        },
        {
          "output_type": "stream",
          "name": "stdout",
          "text": [
            "\u001b[91m \n",
            "\n",
            "I encountered an error while trying to use the tool. This was the error: APIStatusError.__init__() missing 2 required keyword-only arguments: 'response' and 'body'.\n",
            " Tool Search a PDF's content accepts these inputs: Tool Name: Search a PDF's content\n",
            "Tool Arguments: {'query': {'description': \"Mandatory query you want to use to search the PDF's content\", 'type': 'str'}, 'pdf': {'description': 'Mandatory pdf path you want to search', 'type': 'str'}}\n",
            "Tool Description: A tool that can be used to semantic search a query from a PDF's content.\n",
            "\u001b[00m\n",
            "\n",
            "\n",
            "\u001b[1m\u001b[95m# Agent:\u001b[00m \u001b[1m\u001b[92mEspecialista em leitura de arquivos PDF.\u001b[00m\n",
            "\u001b[95m## Thought:\u001b[00m \u001b[92mThought: Como a tentativa de ler o arquivo diretamente falhou, vou tentar usar a ferramenta \"Search a PDF's content\" para buscar o conteúdo do PDF.\u001b[00m\n",
            "\u001b[95m## Using tool:\u001b[00m \u001b[92mSearch a PDF's content\u001b[00m\n",
            "\u001b[95m## Tool Input:\u001b[00m \u001b[92m\n",
            "\"{\\\"query\\\": \\\" \\\", \\\"pdf\\\": \\\"/content/paths/pdf/PO 144899.pdf\\\"}\"\u001b[00m\n",
            "\u001b[95m## Tool Output:\u001b[00m \u001b[92m\n",
            "\n",
            "I encountered an error while trying to use the tool. This was the error: APIStatusError.__init__() missing 2 required keyword-only arguments: 'response' and 'body'.\n",
            " Tool Search a PDF's content accepts these inputs: Tool Name: Search a PDF's content\n",
            "Tool Arguments: {'query': {'description': \"Mandatory query you want to use to search the PDF's content\", 'type': 'str'}, 'pdf': {'description': 'Mandatory pdf path you want to search', 'type': 'str'}}\n",
            "Tool Description: A tool that can be used to semantic search a query from a PDF's content..\n",
            "Moving on then. I MUST either use a tool (use one at time) OR give my best final answer not both at the same time. To Use the following format:\n",
            "\n",
            "Thought: you should always think about what to do\n",
            "Action: the action to take, should be one of [Search a PDF's content, Read a file's content]\n",
            "Action Input: the input to the action, dictionary enclosed in curly braces\n",
            "Observation: the result of the action\n",
            "... (this Thought/Action/Action Input/Result can repeat N times)\n",
            "Thought: I now can give a great answer\n",
            "Final Answer: Your final answer must be the great and the most complete as possible, it must be outcome described\n",
            "\n",
            " \u001b[00m\n"
          ]
        },
        {
          "output_type": "stream",
          "name": "stderr",
          "text": [
            "Inserting batches in chromadb:   0%|          | 0/1 [00:00<?, ?it/s]\n",
            "Inserting batches in chromadb:   0%|          | 0/1 [00:00<?, ?it/s]\n",
            "Inserting batches in chromadb:   0%|          | 0/1 [00:00<?, ?it/s]\n",
            "Inserting batches in chromadb:   0%|          | 0/1 [00:00<?, ?it/s]\n",
            "Inserting batches in chromadb:   0%|          | 0/1 [00:00<?, ?it/s]\n",
            "Inserting batches in chromadb:   0%|          | 0/1 [00:00<?, ?it/s]\n"
          ]
        },
        {
          "output_type": "stream",
          "name": "stdout",
          "text": [
            "\u001b[91m \n",
            "\n",
            "I encountered an error while trying to use the tool. This was the error: APIStatusError.__init__() missing 2 required keyword-only arguments: 'response' and 'body'.\n",
            " Tool Search a PDF's content accepts these inputs: Tool Name: Search a PDF's content\n",
            "Tool Arguments: {'query': {'description': \"Mandatory query you want to use to search the PDF's content\", 'type': 'str'}, 'pdf': {'description': 'Mandatory pdf path you want to search', 'type': 'str'}}\n",
            "Tool Description: A tool that can be used to semantic search a query from a PDF's content.\n",
            "\u001b[00m\n",
            "\n",
            "\n",
            "\u001b[1m\u001b[95m# Agent:\u001b[00m \u001b[1m\u001b[92mEspecialista em leitura de arquivos PDF.\u001b[00m\n",
            "\u001b[95m## Thought:\u001b[00m \u001b[92mThought: Vou tentar novamente usar a ferramenta \"Search a PDF's content\" para buscar qualquer conteúdo do PDF.\u001b[00m\n",
            "\u001b[95m## Using tool:\u001b[00m \u001b[92mSearch a PDF's content\u001b[00m\n",
            "\u001b[95m## Tool Input:\u001b[00m \u001b[92m\n",
            "\"{\\\"query\\\": \\\".\\\", \\\"pdf\\\": \\\"/content/paths/pdf/PO 144899.pdf\\\"}\"\u001b[00m\n",
            "\u001b[95m## Tool Output:\u001b[00m \u001b[92m\n",
            "\n",
            "I encountered an error while trying to use the tool. This was the error: APIStatusError.__init__() missing 2 required keyword-only arguments: 'response' and 'body'.\n",
            " Tool Search a PDF's content accepts these inputs: Tool Name: Search a PDF's content\n",
            "Tool Arguments: {'query': {'description': \"Mandatory query you want to use to search the PDF's content\", 'type': 'str'}, 'pdf': {'description': 'Mandatory pdf path you want to search', 'type': 'str'}}\n",
            "Tool Description: A tool that can be used to semantic search a query from a PDF's content..\n",
            "Moving on then. I MUST either use a tool (use one at time) OR give my best final answer not both at the same time. To Use the following format:\n",
            "\n",
            "Thought: you should always think about what to do\n",
            "Action: the action to take, should be one of [Search a PDF's content, Read a file's content]\n",
            "Action Input: the input to the action, dictionary enclosed in curly braces\n",
            "Observation: the result of the action\n",
            "... (this Thought/Action/Action Input/Result can repeat N times)\n",
            "Thought: I now can give a great answer\n",
            "Final Answer: Your final answer must be the great and the most complete as possible, it must be outcome described\n",
            "\n",
            " \u001b[00m\n",
            "\n",
            "\n",
            "\u001b[1m\u001b[95m# Agent:\u001b[00m \u001b[1m\u001b[92mEspecialista em leitura de arquivos PDF.\u001b[00m\n",
            "\u001b[95m## Thought:\u001b[00m \u001b[92mThought: Aparentemente, houve um problema com o uso da ferramenta \"Search a PDF's content\". Vou tentar novamente usar a ferramenta \"Read a file's content\" para ler o arquivo PDF diretamente.\u001b[00m\n",
            "\u001b[95m## Using tool:\u001b[00m \u001b[92mRead a file's content\u001b[00m\n",
            "\u001b[95m## Tool Input:\u001b[00m \u001b[92m\n",
            "\"{\\\"file_path\\\": \\\"/content/paths/pdf/PO 144899.pdf\\\"}\"\u001b[00m\n",
            "\u001b[95m## Tool Output:\u001b[00m \u001b[92m\n",
            "Fail to read the file /content/paths/pdf/PO 144899.pdf. Error: 'utf-8' codec can't decode byte 0xb5 in position 11: invalid start byte\u001b[00m\n",
            "\n",
            "\n",
            "\u001b[1m\u001b[95m# Agent:\u001b[00m \u001b[1m\u001b[92mEspecialista em leitura de arquivos PDF.\u001b[00m\n",
            "\u001b[95m## Final Answer:\u001b[00m \u001b[92m\n",
            "Não foi possível ler e extrair o texto do arquivo PDF \"/content/paths/pdf/PO 144899.pdf\" devido a problemas técnicos com as ferramentas disponíveis.\u001b[00m\n",
            "\n",
            "\n",
            "\u001b[1m\u001b[95m# Agent:\u001b[00m \u001b[1m\u001b[92mEspecialista em Salvar Arquivos de Texto\u001b[00m\n",
            "\u001b[95m## Task:\u001b[00m \u001b[92mSalvar todo o texto extraído pelo agente readPdf em um arquivo txt localizado em /content/paths/txt/PO 144899.txt.\u001b[00m\n"
          ]
        },
        {
          "output_type": "stream",
          "name": "stderr",
          "text": [
            "Inserting batches in chromadb:   0%|          | 0/1 [00:00<?, ?it/s]\n",
            "Inserting batches in chromadb:   0%|          | 0/1 [00:00<?, ?it/s]\n",
            "Inserting batches in chromadb:   0%|          | 0/1 [00:00<?, ?it/s]\n",
            "Inserting batches in chromadb:   0%|          | 0/1 [00:00<?, ?it/s]\n",
            "Inserting batches in chromadb:   0%|          | 0/1 [00:00<?, ?it/s]\n",
            "Inserting batches in chromadb:   0%|          | 0/1 [00:00<?, ?it/s]\n"
          ]
        },
        {
          "output_type": "stream",
          "name": "stdout",
          "text": [
            "\u001b[91m \n",
            "\n",
            "I encountered an error while trying to use the tool. This was the error: APIStatusError.__init__() missing 2 required keyword-only arguments: 'response' and 'body'.\n",
            " Tool Search a JSON's content accepts these inputs: Tool Name: Search a JSON's content\n",
            "Tool Arguments: {'search_query': {'description': \"Mandatory search query you want to use to search the JSON's content\", 'type': 'str'}, 'json_path': {'description': 'Mandatory json path you want to search', 'type': 'str'}}\n",
            "Tool Description: A tool that can be used to semantic search a query from a JSON's content.\n",
            "\u001b[00m\n",
            "\n",
            "\n",
            "\u001b[1m\u001b[95m# Agent:\u001b[00m \u001b[1m\u001b[92mEspecialista em Salvar Arquivos de Texto\u001b[00m\n",
            "\u001b[95m## Thought:\u001b[00m \u001b[92mThought: Vou procurar o conteúdo JSON para verificar se há alguma informação útil ou o texto extraído do PDF mencionado.\u001b[00m\n",
            "\u001b[95m## Using tool:\u001b[00m \u001b[92mSearch a JSON's content\u001b[00m\n",
            "\u001b[95m## Tool Input:\u001b[00m \u001b[92m\n",
            "\"{\\\"search_query\\\": \\\"PO 144899\\\", \\\"json_path\\\": \\\"/content/paths/json/\\\"}\"\u001b[00m\n",
            "\u001b[95m## Tool Output:\u001b[00m \u001b[92m\n",
            "\n",
            "I encountered an error while trying to use the tool. This was the error: APIStatusError.__init__() missing 2 required keyword-only arguments: 'response' and 'body'.\n",
            " Tool Search a JSON's content accepts these inputs: Tool Name: Search a JSON's content\n",
            "Tool Arguments: {'search_query': {'description': \"Mandatory search query you want to use to search the JSON's content\", 'type': 'str'}, 'json_path': {'description': 'Mandatory json path you want to search', 'type': 'str'}}\n",
            "Tool Description: A tool that can be used to semantic search a query from a JSON's content..\n",
            "Moving on then. I MUST either use a tool (use one at time) OR give my best final answer not both at the same time. To Use the following format:\n",
            "\n",
            "Thought: you should always think about what to do\n",
            "Action: the action to take, should be one of [Read a file's content, Search a JSON's content]\n",
            "Action Input: the input to the action, dictionary enclosed in curly braces\n",
            "Observation: the result of the action\n",
            "... (this Thought/Action/Action Input/Result can repeat N times)\n",
            "Thought: I now can give a great answer\n",
            "Final Answer: Your final answer must be the great and the most complete as possible, it must be outcome described\n",
            "\n",
            " \u001b[00m\n",
            "\n",
            "\n",
            "\u001b[1m\u001b[95m# Agent:\u001b[00m \u001b[1m\u001b[92mEspecialista em Salvar Arquivos de Texto\u001b[00m\n",
            "\u001b[95m## Thought:\u001b[00m \u001b[92mThought: Vou tentar ler o conteúdo do arquivo PDF diretamente para verificar se há algum texto que possa ser extraído.\u001b[00m\n",
            "\u001b[95m## Using tool:\u001b[00m \u001b[92mRead a file's content\u001b[00m\n",
            "\u001b[95m## Tool Input:\u001b[00m \u001b[92m\n",
            "\"{\\\"file_path\\\": \\\"/content/paths/pdf/PO 144899.pdf\\\"}\"\u001b[00m\n",
            "\u001b[95m## Tool Output:\u001b[00m \u001b[92m\n",
            "Fail to read the file /content/paths/pdf/PO 144899.pdf. Error: 'utf-8' codec can't decode byte 0xb5 in position 11: invalid start byte\n",
            "\n",
            "\n",
            "You ONLY have access to the following tools, and should NEVER make up tools that are not listed here:\n",
            "\n",
            "Tool Name: Read a file's content\n",
            "Tool Arguments: {'file_path': {'description': 'Mandatory file full path to read the file', 'type': 'str'}}\n",
            "Tool Description: A tool that can be used to read a file's content.\n",
            "Tool Name: Search a JSON's content\n",
            "Tool Arguments: {'search_query': {'description': \"Mandatory search query you want to use to search the JSON's content\", 'type': 'str'}, 'json_path': {'description': 'Mandatory json path you want to search', 'type': 'str'}}\n",
            "Tool Description: A tool that can be used to semantic search a query from a JSON's content.\n",
            "\n",
            "Use the following format:\n",
            "\n",
            "Thought: you should always think about what to do\n",
            "Action: the action to take, only one name of [Read a file's content, Search a JSON's content], just the name, exactly as it's written.\n",
            "Action Input: the input to the action, just a simple python dictionary, enclosed in curly braces, using \" to wrap keys and values.\n",
            "Observation: the result of the action\n",
            "\n",
            "Once all necessary information is gathered:\n",
            "\n",
            "Thought: I now know the final answer\n",
            "Final Answer: the final answer to the original input question\n",
            "\u001b[00m\n"
          ]
        },
        {
          "output_type": "stream",
          "name": "stderr",
          "text": [
            "Inserting batches in chromadb:   0%|          | 0/1 [00:00<?, ?it/s]\n",
            "Inserting batches in chromadb:   0%|          | 0/1 [00:00<?, ?it/s]\n",
            "Inserting batches in chromadb:   0%|          | 0/1 [00:00<?, ?it/s]\n",
            "Inserting batches in chromadb:   0%|          | 0/1 [00:00<?, ?it/s]\n",
            "Inserting batches in chromadb:   0%|          | 0/1 [00:00<?, ?it/s]\n",
            "Inserting batches in chromadb:   0%|          | 0/1 [00:00<?, ?it/s]\n"
          ]
        },
        {
          "output_type": "stream",
          "name": "stdout",
          "text": [
            "\u001b[91m \n",
            "\n",
            "I encountered an error while trying to use the tool. This was the error: APIStatusError.__init__() missing 2 required keyword-only arguments: 'response' and 'body'.\n",
            " Tool Search a JSON's content accepts these inputs: Tool Name: Search a JSON's content\n",
            "Tool Arguments: {'search_query': {'description': \"Mandatory search query you want to use to search the JSON's content\", 'type': 'str'}, 'json_path': {'description': 'Mandatory json path you want to search', 'type': 'str'}}\n",
            "Tool Description: A tool that can be used to semantic search a query from a JSON's content.\n",
            "\u001b[00m\n",
            "\n",
            "\n",
            "\u001b[1m\u001b[95m# Agent:\u001b[00m \u001b[1m\u001b[92mEspecialista em Salvar Arquivos de Texto\u001b[00m\n",
            "\u001b[95m## Thought:\u001b[00m \u001b[92mThought: Vou tentar procurar novamente o conteúdo JSON para encontrar o texto extraído do PDF.\u001b[00m\n",
            "\u001b[95m## Using tool:\u001b[00m \u001b[92mSearch a JSON's content\u001b[00m\n",
            "\u001b[95m## Tool Input:\u001b[00m \u001b[92m\n",
            "\"{\\\"search_query\\\": \\\"texto extra\\\\u00eddo\\\", \\\"json_path\\\": \\\"/content/paths/json/\\\"}\"\u001b[00m\n",
            "\u001b[95m## Tool Output:\u001b[00m \u001b[92m\n",
            "\n",
            "I encountered an error while trying to use the tool. This was the error: APIStatusError.__init__() missing 2 required keyword-only arguments: 'response' and 'body'.\n",
            " Tool Search a JSON's content accepts these inputs: Tool Name: Search a JSON's content\n",
            "Tool Arguments: {'search_query': {'description': \"Mandatory search query you want to use to search the JSON's content\", 'type': 'str'}, 'json_path': {'description': 'Mandatory json path you want to search', 'type': 'str'}}\n",
            "Tool Description: A tool that can be used to semantic search a query from a JSON's content..\n",
            "Moving on then. I MUST either use a tool (use one at time) OR give my best final answer not both at the same time. To Use the following format:\n",
            "\n",
            "Thought: you should always think about what to do\n",
            "Action: the action to take, should be one of [Read a file's content, Search a JSON's content]\n",
            "Action Input: the input to the action, dictionary enclosed in curly braces\n",
            "Observation: the result of the action\n",
            "... (this Thought/Action/Action Input/Result can repeat N times)\n",
            "Thought: I now can give a great answer\n",
            "Final Answer: Your final answer must be the great and the most complete as possible, it must be outcome described\n",
            "\n",
            " \u001b[00m\n",
            "\n",
            "\n",
            "\u001b[1m\u001b[95m# Agent:\u001b[00m \u001b[1m\u001b[92mEspecialista em Salvar Arquivos de Texto\u001b[00m\n",
            "\u001b[95m## Thought:\u001b[00m \u001b[92mThought: Parece que houve problemas ao tentar ler o arquivo PDF e ao buscar no conteúdo JSON. Vou tentar ler novamente o conteúdo de um arquivo específico que possa conter o texto extraído do PDF.\u001b[00m\n",
            "\u001b[95m## Using tool:\u001b[00m \u001b[92mRead a file's content\u001b[00m\n",
            "\u001b[95m## Tool Input:\u001b[00m \u001b[92m\n",
            "\"{\\\"file_path\\\": \\\"/content/paths/json/extracted_text_PO_144899.json\\\"}\"\u001b[00m\n",
            "\u001b[95m## Tool Output:\u001b[00m \u001b[92m\n",
            "Fail to read the file /content/paths/json/extracted_text_PO_144899.json. Error: [Errno 2] No such file or directory: '/content/paths/json/extracted_text_PO_144899.json'\u001b[00m\n"
          ]
        },
        {
          "output_type": "stream",
          "name": "stderr",
          "text": [
            "Inserting batches in chromadb:   0%|          | 0/1 [00:00<?, ?it/s]\n",
            "Inserting batches in chromadb:   0%|          | 0/1 [00:00<?, ?it/s]\n",
            "Inserting batches in chromadb:   0%|          | 0/1 [00:00<?, ?it/s]\n",
            "Inserting batches in chromadb:   0%|          | 0/1 [00:00<?, ?it/s]\n",
            "Inserting batches in chromadb:   0%|          | 0/1 [00:00<?, ?it/s]\n",
            "Inserting batches in chromadb:   0%|          | 0/1 [00:00<?, ?it/s]\n"
          ]
        },
        {
          "output_type": "stream",
          "name": "stdout",
          "text": [
            "\u001b[91m \n",
            "\n",
            "I encountered an error while trying to use the tool. This was the error: APIStatusError.__init__() missing 2 required keyword-only arguments: 'response' and 'body'.\n",
            " Tool Search a JSON's content accepts these inputs: Tool Name: Search a JSON's content\n",
            "Tool Arguments: {'search_query': {'description': \"Mandatory search query you want to use to search the JSON's content\", 'type': 'str'}, 'json_path': {'description': 'Mandatory json path you want to search', 'type': 'str'}}\n",
            "Tool Description: A tool that can be used to semantic search a query from a JSON's content.\n",
            "\u001b[00m\n",
            "\n",
            "\n",
            "\u001b[1m\u001b[95m# Agent:\u001b[00m \u001b[1m\u001b[92mEspecialista em Salvar Arquivos de Texto\u001b[00m\n",
            "\u001b[95m## Thought:\u001b[00m \u001b[92mThought: Vou tentar procurar novamente o conteúdo JSON usando uma palavra-chave diferente para ver se consigo encontrar algo útil.\u001b[00m\n",
            "\u001b[95m## Using tool:\u001b[00m \u001b[92mSearch a JSON's content\u001b[00m\n",
            "\u001b[95m## Tool Input:\u001b[00m \u001b[92m\n",
            "\"{\\\"search_query\\\": \\\"PO 144899\\\", \\\"json_path\\\": \\\"/content/paths/json/available_files.json\\\"}\"\u001b[00m\n",
            "\u001b[95m## Tool Output:\u001b[00m \u001b[92m\n",
            "\n",
            "I encountered an error while trying to use the tool. This was the error: APIStatusError.__init__() missing 2 required keyword-only arguments: 'response' and 'body'.\n",
            " Tool Search a JSON's content accepts these inputs: Tool Name: Search a JSON's content\n",
            "Tool Arguments: {'search_query': {'description': \"Mandatory search query you want to use to search the JSON's content\", 'type': 'str'}, 'json_path': {'description': 'Mandatory json path you want to search', 'type': 'str'}}\n",
            "Tool Description: A tool that can be used to semantic search a query from a JSON's content..\n",
            "Moving on then. I MUST either use a tool (use one at time) OR give my best final answer not both at the same time. To Use the following format:\n",
            "\n",
            "Thought: you should always think about what to do\n",
            "Action: the action to take, should be one of [Read a file's content, Search a JSON's content]\n",
            "Action Input: the input to the action, dictionary enclosed in curly braces\n",
            "Observation: the result of the action\n",
            "... (this Thought/Action/Action Input/Result can repeat N times)\n",
            "Thought: I now can give a great answer\n",
            "Final Answer: Your final answer must be the great and the most complete as possible, it must be outcome described\n",
            "\n",
            " \u001b[00m\n",
            "\n",
            "\n",
            "\u001b[1m\u001b[95m# Agent:\u001b[00m \u001b[1m\u001b[92mEspecialista em Salvar Arquivos de Texto\u001b[00m\n",
            "\u001b[95m## Thought:\u001b[00m \u001b[92mThought: Parece que estou enfrentando dificuldades técnicas para acessar o conteúdo necessário. Vou fazer uma última tentativa de leitura do arquivo PDF.\u001b[00m\n",
            "\u001b[95m## Using tool:\u001b[00m \u001b[92mRead a file's content\u001b[00m\n",
            "\u001b[95m## Tool Input:\u001b[00m \u001b[92m\n",
            "\"{\\\"file_path\\\": \\\"/content/paths/pdf/PO 144899.pdf\\\"}\"\u001b[00m\n",
            "\u001b[95m## Tool Output:\u001b[00m \u001b[92m\n",
            "Fail to read the file /content/paths/pdf/PO 144899.pdf. Error: 'utf-8' codec can't decode byte 0xb5 in position 11: invalid start byte\u001b[00m\n",
            "\n",
            "\n",
            "\u001b[1m\u001b[95m# Agent:\u001b[00m \u001b[1m\u001b[92mEspecialista em Salvar Arquivos de Texto\u001b[00m\n",
            "\u001b[95m## Final Answer:\u001b[00m \u001b[92m\n",
            "Não foi possível salvar o texto extraído do PDF no arquivo de texto especificado devido a problemas técnicos com as ferramentas disponíveis. Enfrentei dificuldades ao tentar ler o arquivo PDF diretamente e ao buscar no conteúdo JSON. Recomendo verificar se o arquivo PDF está acessível e se há algum problema com a codificação do arquivo.\u001b[00m\n",
            "\n",
            "\n",
            "\u001b[1m\u001b[95m# Agent:\u001b[00m \u001b[1m\u001b[92mEspecialista em Extração de Dados\u001b[00m\n",
            "\u001b[95m## Task:\u001b[00m \u001b[92mIdentificar e extrair as seguintes informações específicas do texto salvo em /content/paths/txt/PO 144899.txt:  'Nome do Vendedor', 'Endereço do Vendedor', 'Nome do Comprador', 'Endereço do Comprador', 'Número da Ordem', 'Data da Ordem', 'Descrição do Produto', 'Quantidade', 'Valor Unitário', 'Valor Total' .\u001b[00m\n",
            "\n",
            "\n",
            "\u001b[1m\u001b[95m# Agent:\u001b[00m \u001b[1m\u001b[92mEspecialista em Extração de Dados\u001b[00m\n",
            "\u001b[95m## Thought:\u001b[00m \u001b[92mThought: Para identificar e extrair as informações específicas solicitadas, primeiro preciso ler o conteúdo do arquivo de texto localizado em /content/paths/txt/PO 144899.txt. Vou usar a ferramenta \"Read a file's content\" para isso.\u001b[00m\n",
            "\u001b[95m## Using tool:\u001b[00m \u001b[92mRead a file's content\u001b[00m\n",
            "\u001b[95m## Tool Input:\u001b[00m \u001b[92m\n",
            "\"{\\\"file_path\\\": \\\"/content/paths/txt/PO 144899.txt\\\"}\"\u001b[00m\n",
            "\u001b[95m## Tool Output:\u001b[00m \u001b[92m\n",
            "Fail to read the file /content/paths/txt/PO 144899.txt. Error: [Errno 2] No such file or directory: '/content/paths/txt/PO 144899.txt'\n",
            "\n",
            "\n",
            "You ONLY have access to the following tools, and should NEVER make up tools that are not listed here:\n",
            "\n",
            "Tool Name: Read a file's content\n",
            "Tool Arguments: {'file_path': {'description': 'Mandatory file full path to read the file', 'type': 'str'}}\n",
            "Tool Description: A tool that can be used to read a file's content.\n",
            "Tool Name: Search a JSON's content\n",
            "Tool Arguments: {'search_query': {'description': \"Mandatory search query you want to use to search the JSON's content\", 'type': 'str'}, 'json_path': {'description': 'Mandatory json path you want to search', 'type': 'str'}}\n",
            "Tool Description: A tool that can be used to semantic search a query from a JSON's content.\n",
            "\n",
            "Use the following format:\n",
            "\n",
            "Thought: you should always think about what to do\n",
            "Action: the action to take, only one name of [Read a file's content, Search a JSON's content], just the name, exactly as it's written.\n",
            "Action Input: the input to the action, just a simple python dictionary, enclosed in curly braces, using \" to wrap keys and values.\n",
            "Observation: the result of the action\n",
            "\n",
            "Once all necessary information is gathered:\n",
            "\n",
            "Thought: I now know the final answer\n",
            "Final Answer: the final answer to the original input question\n",
            "\u001b[00m\n",
            "\n",
            "\n",
            "\u001b[1m\u001b[95m# Agent:\u001b[00m \u001b[1m\u001b[92mEspecialista em Extração de Dados\u001b[00m\n",
            "\u001b[95m## Thought:\u001b[00m \u001b[92mThought: Parece que o arquivo não foi encontrado no caminho especificado. Preciso garantir que o caminho do arquivo está correto ou verificar se o arquivo está presente no local correto. Vou tentar novamente para ter certeza de que o caminho está correto.\u001b[00m\n",
            "\u001b[95m## Using tool:\u001b[00m \u001b[92mRead a file's content\u001b[00m\n",
            "\u001b[95m## Tool Input:\u001b[00m \u001b[92m\n",
            "\"{\\\"file_path\\\": \\\"/content/paths/txt/PO 144899.txt\\\"}\"\u001b[00m\n",
            "\u001b[95m## Tool Output:\u001b[00m \u001b[92m\n",
            "Fail to read the file /content/paths/txt/PO 144899.txt. Error: [Errno 2] No such file or directory: '/content/paths/txt/PO 144899.txt'\u001b[00m\n"
          ]
        },
        {
          "output_type": "stream",
          "name": "stderr",
          "text": [
            "Inserting batches in chromadb:   0%|          | 0/1 [00:00<?, ?it/s]\n",
            "Inserting batches in chromadb:   0%|          | 0/1 [00:00<?, ?it/s]\n",
            "Inserting batches in chromadb:   0%|          | 0/1 [00:00<?, ?it/s]\n",
            "Inserting batches in chromadb:   0%|          | 0/1 [00:00<?, ?it/s]\n",
            "Inserting batches in chromadb:   0%|          | 0/1 [00:00<?, ?it/s]\n",
            "Inserting batches in chromadb:   0%|          | 0/1 [00:00<?, ?it/s]\n"
          ]
        },
        {
          "output_type": "stream",
          "name": "stdout",
          "text": [
            "\u001b[91m \n",
            "\n",
            "I encountered an error while trying to use the tool. This was the error: APIStatusError.__init__() missing 2 required keyword-only arguments: 'response' and 'body'.\n",
            " Tool Search a JSON's content accepts these inputs: Tool Name: Search a JSON's content\n",
            "Tool Arguments: {'search_query': {'description': \"Mandatory search query you want to use to search the JSON's content\", 'type': 'str'}, 'json_path': {'description': 'Mandatory json path you want to search', 'type': 'str'}}\n",
            "Tool Description: A tool that can be used to semantic search a query from a JSON's content.\n",
            "\u001b[00m\n",
            "\n",
            "\n",
            "\u001b[1m\u001b[95m# Agent:\u001b[00m \u001b[1m\u001b[92mEspecialista em Extração de Dados\u001b[00m\n",
            "\u001b[95m## Thought:\u001b[00m \u001b[92mThought: Como não consigo acessar o arquivo no caminho especificado, e considerando que a tarefa envolve a extração de dados de um arquivo JSON, tentarei procurar no conteúdo JSON, caso haja informações relacionadas a \"PO 144899\".\u001b[00m\n",
            "\u001b[95m## Using tool:\u001b[00m \u001b[92mSearch a JSON's content\u001b[00m\n",
            "\u001b[95m## Tool Input:\u001b[00m \u001b[92m\n",
            "\"{\\\"search_query\\\": \\\"PO 144899\\\", \\\"json_path\\\": \\\"/content/paths/json/data.json\\\"}\"\u001b[00m\n",
            "\u001b[95m## Tool Output:\u001b[00m \u001b[92m\n",
            "\n",
            "I encountered an error while trying to use the tool. This was the error: APIStatusError.__init__() missing 2 required keyword-only arguments: 'response' and 'body'.\n",
            " Tool Search a JSON's content accepts these inputs: Tool Name: Search a JSON's content\n",
            "Tool Arguments: {'search_query': {'description': \"Mandatory search query you want to use to search the JSON's content\", 'type': 'str'}, 'json_path': {'description': 'Mandatory json path you want to search', 'type': 'str'}}\n",
            "Tool Description: A tool that can be used to semantic search a query from a JSON's content..\n",
            "Moving on then. I MUST either use a tool (use one at time) OR give my best final answer not both at the same time. To Use the following format:\n",
            "\n",
            "Thought: you should always think about what to do\n",
            "Action: the action to take, should be one of [Read a file's content, Search a JSON's content]\n",
            "Action Input: the input to the action, dictionary enclosed in curly braces\n",
            "Observation: the result of the action\n",
            "... (this Thought/Action/Action Input/Result can repeat N times)\n",
            "Thought: I now can give a great answer\n",
            "Final Answer: Your final answer must be the great and the most complete as possible, it must be outcome described\n",
            "\n",
            " \u001b[00m\n",
            "\n",
            "\n",
            "\u001b[1m\u001b[95m# Agent:\u001b[00m \u001b[1m\u001b[92mEspecialista em Extração de Dados\u001b[00m\n",
            "\u001b[95m## Final Answer:\u001b[00m \u001b[92m\n",
            "Não foi possível acessar o conteúdo do arquivo /content/paths/txt/PO 144899.txt. Recomendo verificar se o caminho do arquivo está correto e se o arquivo está disponível no local especificado. Além disso, verifique se há algum problema com a codificação do arquivo ou permissões de acesso que possam estar impedindo a leitura do mesmo.\u001b[00m\n",
            "\n",
            "\n",
            "\u001b[1m\u001b[95m# Agent:\u001b[00m \u001b[1m\u001b[92mEspecialista em Estruturação de Dados\u001b[00m\n",
            "\u001b[95m## Task:\u001b[00m \u001b[92mEstruturar as informações extraídas em um arquivo JSON no caminho /content/paths/json/PO 144899.json\u001b[00m\n",
            "\n",
            "\n",
            "\u001b[1m\u001b[95m# Agent:\u001b[00m \u001b[1m\u001b[92mEspecialista em Estruturação de Dados\u001b[00m\n",
            "\u001b[95m## Thought:\u001b[00m \u001b[92mThought: Para estruturar as informações em um arquivo JSON, primeiro preciso acessar o conteúdo do arquivo /content/paths/txt/PO 144899.txt. Vou usar a ferramenta \"Read a file's content\" para ler o conteúdo do arquivo.\u001b[00m\n",
            "\u001b[95m## Using tool:\u001b[00m \u001b[92mRead a file's content\u001b[00m\n",
            "\u001b[95m## Tool Input:\u001b[00m \u001b[92m\n",
            "\"{\\\"file_path\\\": \\\"/content/paths/txt/PO 144899.txt\\\"}\"\u001b[00m\n",
            "\u001b[95m## Tool Output:\u001b[00m \u001b[92m\n",
            "Fail to read the file /content/paths/txt/PO 144899.txt. Error: [Errno 2] No such file or directory: '/content/paths/txt/PO 144899.txt'\u001b[00m\n",
            "\n",
            "\n",
            "\u001b[1m\u001b[95m# Agent:\u001b[00m \u001b[1m\u001b[92mEspecialista em Estruturação de Dados\u001b[00m\n",
            "\u001b[95m## Final Answer:\u001b[00m \u001b[92m\n",
            "```json\n",
            "{\n",
            "  \"error\": {\n",
            "    \"message\": \"Não foi possível acessar o conteúdo do arquivo /content/paths/txt/PO 144899.txt.\",\n",
            "    \"recommendations\": [\n",
            "      \"Verifique se o caminho do arquivo está correto e se o arquivo está disponível no local especificado.\",\n",
            "      \"Verifique se há algum problema com a codificação do arquivo ou permissões de acesso que possam estar impedindo a leitura do mesmo.\"\n",
            "    ]\n",
            "  }\n",
            "}\n",
            "```\u001b[00m\n",
            "\n",
            "\n",
            "Resultado para PO 144899.pdf: ```json\n",
            "{\n",
            "  \"error\": {\n",
            "    \"message\": \"Não foi possível acessar o conteúdo do arquivo /content/paths/txt/PO 144899.txt.\",\n",
            "    \"recommendations\": [\n",
            "      \"Verifique se o caminho do arquivo está correto e se o arquivo está disponível no local especificado.\",\n",
            "      \"Verifique se há algum problema com a codificação do arquivo ou permissões de acesso que possam estar impedindo a leitura do mesmo.\"\n",
            "    ]\n",
            "  }\n",
            "}\n",
            "```\n",
            "Processando: /content/paths/pdf/Pedido 11398_24 Lar - Friendly Mate.pdf\n",
            "\u001b[1m\u001b[95m# Agent:\u001b[00m \u001b[1m\u001b[92mEspecialista em leitura de arquivos PDF.\u001b[00m\n",
            "\u001b[95m## Task:\u001b[00m \u001b[92mLer e extrair todo o texto do aquivo PDF da ordem de compra utilizando o caminho fornecido /content/paths/pdf/Pedido 11398_24 Lar - Friendly Mate.pdfGarantir que todo o texto foi extraído para futuro processamento.\u001b[00m\n",
            "\n",
            "\n",
            "\u001b[1m\u001b[95m# Agent:\u001b[00m \u001b[1m\u001b[92mEspecialista em leitura de arquivos PDF.\u001b[00m\n",
            "\u001b[95m## Thought:\u001b[00m \u001b[92mThought: Vou usar a ferramenta \"Read a file's content\" para ler o conteúdo completo do arquivo PDF fornecido.\u001b[00m\n",
            "\u001b[95m## Using tool:\u001b[00m \u001b[92mRead a file's content\u001b[00m\n",
            "\u001b[95m## Tool Input:\u001b[00m \u001b[92m\n",
            "\"{\\\"file_path\\\": \\\"/content/paths/pdf/Pedido 11398_24 Lar - Friendly Mate.pdf\\\"}\"\u001b[00m\n",
            "\u001b[95m## Tool Output:\u001b[00m \u001b[92m\n",
            "Fail to read the file /content/paths/pdf/Pedido 11398_24 Lar - Friendly Mate.pdf. Error: 'utf-8' codec can't decode byte 0xd3 in position 10: invalid continuation byte\u001b[00m\n"
          ]
        },
        {
          "output_type": "stream",
          "name": "stderr",
          "text": [
            "Inserting batches in chromadb:   0%|          | 0/1 [00:00<?, ?it/s]\n",
            "Inserting batches in chromadb:   0%|          | 0/1 [00:00<?, ?it/s]\n",
            "Inserting batches in chromadb:   0%|          | 0/1 [00:00<?, ?it/s]\n",
            "Inserting batches in chromadb:   0%|          | 0/1 [00:00<?, ?it/s]\n",
            "Inserting batches in chromadb:   0%|          | 0/1 [00:00<?, ?it/s]\n",
            "Inserting batches in chromadb:   0%|          | 0/1 [00:00<?, ?it/s]\n"
          ]
        },
        {
          "output_type": "stream",
          "name": "stdout",
          "text": [
            "\u001b[91m \n",
            "\n",
            "I encountered an error while trying to use the tool. This was the error: APIStatusError.__init__() missing 2 required keyword-only arguments: 'response' and 'body'.\n",
            " Tool Search a PDF's content accepts these inputs: Tool Name: Search a PDF's content\n",
            "Tool Arguments: {'query': {'description': \"Mandatory query you want to use to search the PDF's content\", 'type': 'str'}, 'pdf': {'description': 'Mandatory pdf path you want to search', 'type': 'str'}}\n",
            "Tool Description: A tool that can be used to semantic search a query from a PDF's content.\n",
            "\u001b[00m\n",
            "\n",
            "\n",
            "\u001b[1m\u001b[95m# Agent:\u001b[00m \u001b[1m\u001b[92mEspecialista em leitura de arquivos PDF.\u001b[00m\n",
            "\u001b[95m## Thought:\u001b[00m \u001b[92mThought: Ocorreu um erro ao tentar ler o arquivo diretamente, então vou tentar buscar o conteúdo do PDF utilizando a ferramenta de busca semântica para garantir a extração do texto.\u001b[00m\n",
            "\u001b[95m## Using tool:\u001b[00m \u001b[92mSearch a PDF's content\u001b[00m\n",
            "\u001b[95m## Tool Input:\u001b[00m \u001b[92m\n",
            "\"{\\\"query\\\": \\\" \\\", \\\"pdf\\\": \\\"/content/paths/pdf/Pedido 11398_24 Lar - Friendly Mate.pdf\\\"}\"\u001b[00m\n",
            "\u001b[95m## Tool Output:\u001b[00m \u001b[92m\n",
            "\n",
            "I encountered an error while trying to use the tool. This was the error: APIStatusError.__init__() missing 2 required keyword-only arguments: 'response' and 'body'.\n",
            " Tool Search a PDF's content accepts these inputs: Tool Name: Search a PDF's content\n",
            "Tool Arguments: {'query': {'description': \"Mandatory query you want to use to search the PDF's content\", 'type': 'str'}, 'pdf': {'description': 'Mandatory pdf path you want to search', 'type': 'str'}}\n",
            "Tool Description: A tool that can be used to semantic search a query from a PDF's content..\n",
            "Moving on then. I MUST either use a tool (use one at time) OR give my best final answer not both at the same time. To Use the following format:\n",
            "\n",
            "Thought: you should always think about what to do\n",
            "Action: the action to take, should be one of [Search a PDF's content, Read a file's content]\n",
            "Action Input: the input to the action, dictionary enclosed in curly braces\n",
            "Observation: the result of the action\n",
            "... (this Thought/Action/Action Input/Result can repeat N times)\n",
            "Thought: I now can give a great answer\n",
            "Final Answer: Your final answer must be the great and the most complete as possible, it must be outcome described\n",
            "\n",
            " \u001b[00m\n",
            "\n",
            "\n",
            "\u001b[1m\u001b[95m# Agent:\u001b[00m \u001b[1m\u001b[92mEspecialista em leitura de arquivos PDF.\u001b[00m\n",
            "\u001b[95m## Thought:\u001b[00m \u001b[92mThought: Vou tentar novamente utilizar a ferramenta de leitura de conteúdo do arquivo, pois pode ter sido um erro temporário.\u001b[00m\n",
            "\u001b[95m## Using tool:\u001b[00m \u001b[92mRead a file's content\u001b[00m\n",
            "\u001b[95m## Tool Input:\u001b[00m \u001b[92m\n",
            "\"{\\\"file_path\\\": \\\"/content/paths/pdf/Pedido 11398_24 Lar - Friendly Mate.pdf\\\"}\"\u001b[00m\n",
            "\u001b[95m## Tool Output:\u001b[00m \u001b[92m\n",
            "Fail to read the file /content/paths/pdf/Pedido 11398_24 Lar - Friendly Mate.pdf. Error: 'utf-8' codec can't decode byte 0xd3 in position 10: invalid continuation byte\n",
            "\n",
            "\n",
            "You ONLY have access to the following tools, and should NEVER make up tools that are not listed here:\n",
            "\n",
            "Tool Name: Search a PDF's content\n",
            "Tool Arguments: {'query': {'description': \"Mandatory query you want to use to search the PDF's content\", 'type': 'str'}, 'pdf': {'description': 'Mandatory pdf path you want to search', 'type': 'str'}}\n",
            "Tool Description: A tool that can be used to semantic search a query from a PDF's content.\n",
            "Tool Name: Read a file's content\n",
            "Tool Arguments: {'file_path': {'description': 'Mandatory file full path to read the file', 'type': 'str'}}\n",
            "Tool Description: A tool that can be used to read a file's content.\n",
            "\n",
            "Use the following format:\n",
            "\n",
            "Thought: you should always think about what to do\n",
            "Action: the action to take, only one name of [Search a PDF's content, Read a file's content], just the name, exactly as it's written.\n",
            "Action Input: the input to the action, just a simple python dictionary, enclosed in curly braces, using \" to wrap keys and values.\n",
            "Observation: the result of the action\n",
            "\n",
            "Once all necessary information is gathered:\n",
            "\n",
            "Thought: I now know the final answer\n",
            "Final Answer: the final answer to the original input question\n",
            "\u001b[00m\n"
          ]
        },
        {
          "output_type": "stream",
          "name": "stderr",
          "text": [
            "Inserting batches in chromadb:   0%|          | 0/1 [00:00<?, ?it/s]\n",
            "Inserting batches in chromadb:   0%|          | 0/1 [00:00<?, ?it/s]\n",
            "Inserting batches in chromadb:   0%|          | 0/1 [00:00<?, ?it/s]\n",
            "Inserting batches in chromadb:   0%|          | 0/1 [00:00<?, ?it/s]\n",
            "Inserting batches in chromadb:   0%|          | 0/1 [00:00<?, ?it/s]\n",
            "Inserting batches in chromadb:   0%|          | 0/1 [00:00<?, ?it/s]\n"
          ]
        },
        {
          "output_type": "stream",
          "name": "stdout",
          "text": [
            "\u001b[91m \n",
            "\n",
            "I encountered an error while trying to use the tool. This was the error: APIStatusError.__init__() missing 2 required keyword-only arguments: 'response' and 'body'.\n",
            " Tool Search a PDF's content accepts these inputs: Tool Name: Search a PDF's content\n",
            "Tool Arguments: {'query': {'description': \"Mandatory query you want to use to search the PDF's content\", 'type': 'str'}, 'pdf': {'description': 'Mandatory pdf path you want to search', 'type': 'str'}}\n",
            "Tool Description: A tool that can be used to semantic search a query from a PDF's content.\n",
            "\u001b[00m\n",
            "\n",
            "\n",
            "\u001b[1m\u001b[95m# Agent:\u001b[00m \u001b[1m\u001b[92mEspecialista em leitura de arquivos PDF.\u001b[00m\n",
            "\u001b[95m## Thought:\u001b[00m \u001b[92mThought: Vou tentar usar a ferramenta de busca semântica novamente, desta vez com uma consulta diferente para ver se consigo extrair o conteúdo do PDF.\u001b[00m\n",
            "\u001b[95m## Using tool:\u001b[00m \u001b[92mSearch a PDF's content\u001b[00m\n",
            "\u001b[95m## Tool Input:\u001b[00m \u001b[92m\n",
            "\"{\\\"query\\\": \\\"ordem de compra\\\", \\\"pdf\\\": \\\"/content/paths/pdf/Pedido 11398_24 Lar - Friendly Mate.pdf\\\"}\"\u001b[00m\n",
            "\u001b[95m## Tool Output:\u001b[00m \u001b[92m\n",
            "\n",
            "I encountered an error while trying to use the tool. This was the error: APIStatusError.__init__() missing 2 required keyword-only arguments: 'response' and 'body'.\n",
            " Tool Search a PDF's content accepts these inputs: Tool Name: Search a PDF's content\n",
            "Tool Arguments: {'query': {'description': \"Mandatory query you want to use to search the PDF's content\", 'type': 'str'}, 'pdf': {'description': 'Mandatory pdf path you want to search', 'type': 'str'}}\n",
            "Tool Description: A tool that can be used to semantic search a query from a PDF's content..\n",
            "Moving on then. I MUST either use a tool (use one at time) OR give my best final answer not both at the same time. To Use the following format:\n",
            "\n",
            "Thought: you should always think about what to do\n",
            "Action: the action to take, should be one of [Search a PDF's content, Read a file's content]\n",
            "Action Input: the input to the action, dictionary enclosed in curly braces\n",
            "Observation: the result of the action\n",
            "... (this Thought/Action/Action Input/Result can repeat N times)\n",
            "Thought: I now can give a great answer\n",
            "Final Answer: Your final answer must be the great and the most complete as possible, it must be outcome described\n",
            "\n",
            " \u001b[00m\n"
          ]
        },
        {
          "output_type": "error",
          "ename": "KeyboardInterrupt",
          "evalue": "",
          "traceback": [
            "\u001b[0;31m---------------------------------------------------------------------------\u001b[0m",
            "\u001b[0;31mHTTPStatusError\u001b[0m                           Traceback (most recent call last)",
            "\u001b[0;32m/usr/local/lib/python3.10/dist-packages/openai/_base_client.py\u001b[0m in \u001b[0;36m_request\u001b[0;34m(self, cast_to, options, retries_taken, stream, stream_cls)\u001b[0m\n\u001b[1;32m   1037\u001b[0m         \u001b[0;32mtry\u001b[0m\u001b[0;34m:\u001b[0m\u001b[0;34m\u001b[0m\u001b[0;34m\u001b[0m\u001b[0m\n\u001b[0;32m-> 1038\u001b[0;31m             \u001b[0mresponse\u001b[0m\u001b[0;34m.\u001b[0m\u001b[0mraise_for_status\u001b[0m\u001b[0;34m(\u001b[0m\u001b[0;34m)\u001b[0m\u001b[0;34m\u001b[0m\u001b[0;34m\u001b[0m\u001b[0m\n\u001b[0m\u001b[1;32m   1039\u001b[0m         \u001b[0;32mexcept\u001b[0m \u001b[0mhttpx\u001b[0m\u001b[0;34m.\u001b[0m\u001b[0mHTTPStatusError\u001b[0m \u001b[0;32mas\u001b[0m \u001b[0merr\u001b[0m\u001b[0;34m:\u001b[0m  \u001b[0;31m# thrown on 4xx and 5xx status code\u001b[0m\u001b[0;34m\u001b[0m\u001b[0;34m\u001b[0m\u001b[0m\n",
            "\u001b[0;32m/usr/local/lib/python3.10/dist-packages/httpx/_models.py\u001b[0m in \u001b[0;36mraise_for_status\u001b[0;34m(self)\u001b[0m\n\u001b[1;32m    762\u001b[0m         \u001b[0mmessage\u001b[0m \u001b[0;34m=\u001b[0m \u001b[0mmessage\u001b[0m\u001b[0;34m.\u001b[0m\u001b[0mformat\u001b[0m\u001b[0;34m(\u001b[0m\u001b[0mself\u001b[0m\u001b[0;34m,\u001b[0m \u001b[0merror_type\u001b[0m\u001b[0;34m=\u001b[0m\u001b[0merror_type\u001b[0m\u001b[0;34m)\u001b[0m\u001b[0;34m\u001b[0m\u001b[0;34m\u001b[0m\u001b[0m\n\u001b[0;32m--> 763\u001b[0;31m         \u001b[0;32mraise\u001b[0m \u001b[0mHTTPStatusError\u001b[0m\u001b[0;34m(\u001b[0m\u001b[0mmessage\u001b[0m\u001b[0;34m,\u001b[0m \u001b[0mrequest\u001b[0m\u001b[0;34m=\u001b[0m\u001b[0mrequest\u001b[0m\u001b[0;34m,\u001b[0m \u001b[0mresponse\u001b[0m\u001b[0;34m=\u001b[0m\u001b[0mself\u001b[0m\u001b[0;34m)\u001b[0m\u001b[0;34m\u001b[0m\u001b[0;34m\u001b[0m\u001b[0m\n\u001b[0m\u001b[1;32m    764\u001b[0m \u001b[0;34m\u001b[0m\u001b[0m\n",
            "\u001b[0;31mHTTPStatusError\u001b[0m: Client error '429 Too Many Requests' for url 'https://pocgoon.openai.azure.com/openai/deployments/gpt-4o/chat/completions?api-version=2024-08-01-preview'\nFor more information check: https://developer.mozilla.org/en-US/docs/Web/HTTP/Status/429",
            "\nDuring handling of the above exception, another exception occurred:\n",
            "\u001b[0;31mKeyboardInterrupt\u001b[0m                         Traceback (most recent call last)",
            "\u001b[0;32m<ipython-input-29-076a572f2dc1>\u001b[0m in \u001b[0;36m<cell line: 30>\u001b[0;34m()\u001b[0m\n\u001b[1;32m     28\u001b[0m             \u001b[0mprint\u001b[0m\u001b[0;34m(\u001b[0m\u001b[0;34mf\"Erro ao processar {arquivo}: {str(e)}\"\u001b[0m\u001b[0;34m)\u001b[0m\u001b[0;34m\u001b[0m\u001b[0;34m\u001b[0m\u001b[0m\n\u001b[1;32m     29\u001b[0m \u001b[0;34m\u001b[0m\u001b[0m\n\u001b[0;32m---> 30\u001b[0;31m \u001b[0mprocessar_pdfs\u001b[0m\u001b[0;34m(\u001b[0m\u001b[0;34m)\u001b[0m\u001b[0;34m\u001b[0m\u001b[0;34m\u001b[0m\u001b[0m\n\u001b[0m",
            "\u001b[0;32m<ipython-input-29-076a572f2dc1>\u001b[0m in \u001b[0;36mprocessar_pdfs\u001b[0;34m()\u001b[0m\n\u001b[1;32m     23\u001b[0m         \u001b[0;31m# Executar Crew\u001b[0m\u001b[0;34m\u001b[0m\u001b[0;34m\u001b[0m\u001b[0m\n\u001b[1;32m     24\u001b[0m         \u001b[0;32mtry\u001b[0m\u001b[0;34m:\u001b[0m\u001b[0;34m\u001b[0m\u001b[0;34m\u001b[0m\u001b[0m\n\u001b[0;32m---> 25\u001b[0;31m             \u001b[0mresultado\u001b[0m \u001b[0;34m=\u001b[0m \u001b[0mequipe\u001b[0m\u001b[0;34m.\u001b[0m\u001b[0mkickoff\u001b[0m\u001b[0;34m(\u001b[0m\u001b[0minputs\u001b[0m\u001b[0;34m=\u001b[0m\u001b[0mentradas\u001b[0m\u001b[0;34m)\u001b[0m\u001b[0;34m\u001b[0m\u001b[0;34m\u001b[0m\u001b[0m\n\u001b[0m\u001b[1;32m     26\u001b[0m             \u001b[0mprint\u001b[0m\u001b[0;34m(\u001b[0m\u001b[0;34mf\"Resultado para {arquivo}: {resultado}\"\u001b[0m\u001b[0;34m)\u001b[0m\u001b[0;34m\u001b[0m\u001b[0;34m\u001b[0m\u001b[0m\n\u001b[1;32m     27\u001b[0m         \u001b[0;32mexcept\u001b[0m \u001b[0mException\u001b[0m \u001b[0;32mas\u001b[0m \u001b[0me\u001b[0m\u001b[0;34m:\u001b[0m\u001b[0;34m\u001b[0m\u001b[0;34m\u001b[0m\u001b[0m\n",
            "\u001b[0;32m/usr/local/lib/python3.10/dist-packages/crewai/crew.py\u001b[0m in \u001b[0;36mkickoff\u001b[0;34m(self, inputs)\u001b[0m\n\u001b[1;32m    538\u001b[0m \u001b[0;34m\u001b[0m\u001b[0m\n\u001b[1;32m    539\u001b[0m         \u001b[0;32mif\u001b[0m \u001b[0mself\u001b[0m\u001b[0;34m.\u001b[0m\u001b[0mprocess\u001b[0m \u001b[0;34m==\u001b[0m \u001b[0mProcess\u001b[0m\u001b[0;34m.\u001b[0m\u001b[0msequential\u001b[0m\u001b[0;34m:\u001b[0m\u001b[0;34m\u001b[0m\u001b[0;34m\u001b[0m\u001b[0m\n\u001b[0;32m--> 540\u001b[0;31m             \u001b[0mresult\u001b[0m \u001b[0;34m=\u001b[0m \u001b[0mself\u001b[0m\u001b[0;34m.\u001b[0m\u001b[0m_run_sequential_process\u001b[0m\u001b[0;34m(\u001b[0m\u001b[0;34m)\u001b[0m\u001b[0;34m\u001b[0m\u001b[0;34m\u001b[0m\u001b[0m\n\u001b[0m\u001b[1;32m    541\u001b[0m         \u001b[0;32melif\u001b[0m \u001b[0mself\u001b[0m\u001b[0;34m.\u001b[0m\u001b[0mprocess\u001b[0m \u001b[0;34m==\u001b[0m \u001b[0mProcess\u001b[0m\u001b[0;34m.\u001b[0m\u001b[0mhierarchical\u001b[0m\u001b[0;34m:\u001b[0m\u001b[0;34m\u001b[0m\u001b[0;34m\u001b[0m\u001b[0m\n\u001b[1;32m    542\u001b[0m             \u001b[0mresult\u001b[0m \u001b[0;34m=\u001b[0m \u001b[0mself\u001b[0m\u001b[0;34m.\u001b[0m\u001b[0m_run_hierarchical_process\u001b[0m\u001b[0;34m(\u001b[0m\u001b[0;34m)\u001b[0m\u001b[0;34m\u001b[0m\u001b[0;34m\u001b[0m\u001b[0m\n",
            "\u001b[0;32m/usr/local/lib/python3.10/dist-packages/crewai/crew.py\u001b[0m in \u001b[0;36m_run_sequential_process\u001b[0;34m(self)\u001b[0m\n\u001b[1;32m    645\u001b[0m     \u001b[0;32mdef\u001b[0m \u001b[0m_run_sequential_process\u001b[0m\u001b[0;34m(\u001b[0m\u001b[0mself\u001b[0m\u001b[0;34m)\u001b[0m \u001b[0;34m->\u001b[0m \u001b[0mCrewOutput\u001b[0m\u001b[0;34m:\u001b[0m\u001b[0;34m\u001b[0m\u001b[0;34m\u001b[0m\u001b[0m\n\u001b[1;32m    646\u001b[0m         \u001b[0;34m\"\"\"Executes tasks sequentially and returns the final output.\"\"\"\u001b[0m\u001b[0;34m\u001b[0m\u001b[0;34m\u001b[0m\u001b[0m\n\u001b[0;32m--> 647\u001b[0;31m         \u001b[0;32mreturn\u001b[0m \u001b[0mself\u001b[0m\u001b[0;34m.\u001b[0m\u001b[0m_execute_tasks\u001b[0m\u001b[0;34m(\u001b[0m\u001b[0mself\u001b[0m\u001b[0;34m.\u001b[0m\u001b[0mtasks\u001b[0m\u001b[0;34m)\u001b[0m\u001b[0;34m\u001b[0m\u001b[0;34m\u001b[0m\u001b[0m\n\u001b[0m\u001b[1;32m    648\u001b[0m \u001b[0;34m\u001b[0m\u001b[0m\n\u001b[1;32m    649\u001b[0m     \u001b[0;32mdef\u001b[0m \u001b[0m_run_hierarchical_process\u001b[0m\u001b[0;34m(\u001b[0m\u001b[0mself\u001b[0m\u001b[0;34m)\u001b[0m \u001b[0;34m->\u001b[0m \u001b[0mCrewOutput\u001b[0m\u001b[0;34m:\u001b[0m\u001b[0;34m\u001b[0m\u001b[0;34m\u001b[0m\u001b[0m\n",
            "\u001b[0;32m/usr/local/lib/python3.10/dist-packages/crewai/crew.py\u001b[0m in \u001b[0;36m_execute_tasks\u001b[0;34m(self, tasks, start_index, was_replayed)\u001b[0m\n\u001b[1;32m    743\u001b[0m \u001b[0;34m\u001b[0m\u001b[0m\n\u001b[1;32m    744\u001b[0m                 \u001b[0mcontext\u001b[0m \u001b[0;34m=\u001b[0m \u001b[0mself\u001b[0m\u001b[0;34m.\u001b[0m\u001b[0m_get_context\u001b[0m\u001b[0;34m(\u001b[0m\u001b[0mtask\u001b[0m\u001b[0;34m,\u001b[0m \u001b[0mtask_outputs\u001b[0m\u001b[0;34m)\u001b[0m\u001b[0;34m\u001b[0m\u001b[0;34m\u001b[0m\u001b[0m\n\u001b[0;32m--> 745\u001b[0;31m                 task_output = task.execute_sync(\n\u001b[0m\u001b[1;32m    746\u001b[0m                     \u001b[0magent\u001b[0m\u001b[0;34m=\u001b[0m\u001b[0magent_to_use\u001b[0m\u001b[0;34m,\u001b[0m\u001b[0;34m\u001b[0m\u001b[0;34m\u001b[0m\u001b[0m\n\u001b[1;32m    747\u001b[0m                     \u001b[0mcontext\u001b[0m\u001b[0;34m=\u001b[0m\u001b[0mcontext\u001b[0m\u001b[0;34m,\u001b[0m\u001b[0;34m\u001b[0m\u001b[0;34m\u001b[0m\u001b[0m\n",
            "\u001b[0;32m/usr/local/lib/python3.10/dist-packages/crewai/task.py\u001b[0m in \u001b[0;36mexecute_sync\u001b[0;34m(self, agent, context, tools)\u001b[0m\n\u001b[1;32m    190\u001b[0m     ) -> TaskOutput:\n\u001b[1;32m    191\u001b[0m         \u001b[0;34m\"\"\"Execute the task synchronously.\"\"\"\u001b[0m\u001b[0;34m\u001b[0m\u001b[0;34m\u001b[0m\u001b[0m\n\u001b[0;32m--> 192\u001b[0;31m         \u001b[0;32mreturn\u001b[0m \u001b[0mself\u001b[0m\u001b[0;34m.\u001b[0m\u001b[0m_execute_core\u001b[0m\u001b[0;34m(\u001b[0m\u001b[0magent\u001b[0m\u001b[0;34m,\u001b[0m \u001b[0mcontext\u001b[0m\u001b[0;34m,\u001b[0m \u001b[0mtools\u001b[0m\u001b[0;34m)\u001b[0m\u001b[0;34m\u001b[0m\u001b[0;34m\u001b[0m\u001b[0m\n\u001b[0m\u001b[1;32m    193\u001b[0m \u001b[0;34m\u001b[0m\u001b[0m\n\u001b[1;32m    194\u001b[0m     \u001b[0;34m@\u001b[0m\u001b[0mproperty\u001b[0m\u001b[0;34m\u001b[0m\u001b[0;34m\u001b[0m\u001b[0m\n",
            "\u001b[0;32m/usr/local/lib/python3.10/dist-packages/crewai/task.py\u001b[0m in \u001b[0;36m_execute_core\u001b[0;34m(self, agent, context, tools)\u001b[0m\n\u001b[1;32m    248\u001b[0m         \u001b[0mself\u001b[0m\u001b[0;34m.\u001b[0m\u001b[0mprocessed_by_agents\u001b[0m\u001b[0;34m.\u001b[0m\u001b[0madd\u001b[0m\u001b[0;34m(\u001b[0m\u001b[0magent\u001b[0m\u001b[0;34m.\u001b[0m\u001b[0mrole\u001b[0m\u001b[0;34m)\u001b[0m\u001b[0;34m\u001b[0m\u001b[0;34m\u001b[0m\u001b[0m\n\u001b[1;32m    249\u001b[0m \u001b[0;34m\u001b[0m\u001b[0m\n\u001b[0;32m--> 250\u001b[0;31m         result = agent.execute_task(\n\u001b[0m\u001b[1;32m    251\u001b[0m             \u001b[0mtask\u001b[0m\u001b[0;34m=\u001b[0m\u001b[0mself\u001b[0m\u001b[0;34m,\u001b[0m\u001b[0;34m\u001b[0m\u001b[0;34m\u001b[0m\u001b[0m\n\u001b[1;32m    252\u001b[0m             \u001b[0mcontext\u001b[0m\u001b[0;34m=\u001b[0m\u001b[0mcontext\u001b[0m\u001b[0;34m,\u001b[0m\u001b[0;34m\u001b[0m\u001b[0;34m\u001b[0m\u001b[0m\n",
            "\u001b[0;32m/usr/local/lib/python3.10/dist-packages/crewai/agent.py\u001b[0m in \u001b[0;36mexecute_task\u001b[0;34m(self, task, context, tools)\u001b[0m\n\u001b[1;32m    295\u001b[0m \u001b[0;34m\u001b[0m\u001b[0m\n\u001b[1;32m    296\u001b[0m         \u001b[0;32mtry\u001b[0m\u001b[0;34m:\u001b[0m\u001b[0;34m\u001b[0m\u001b[0;34m\u001b[0m\u001b[0m\n\u001b[0;32m--> 297\u001b[0;31m             result = self.agent_executor.invoke(\n\u001b[0m\u001b[1;32m    298\u001b[0m                 {\n\u001b[1;32m    299\u001b[0m                     \u001b[0;34m\"input\"\u001b[0m\u001b[0;34m:\u001b[0m \u001b[0mtask_prompt\u001b[0m\u001b[0;34m,\u001b[0m\u001b[0;34m\u001b[0m\u001b[0;34m\u001b[0m\u001b[0m\n",
            "\u001b[0;32m/usr/local/lib/python3.10/dist-packages/crewai/agents/crew_agent_executor.py\u001b[0m in \u001b[0;36minvoke\u001b[0;34m(self, inputs)\u001b[0m\n\u001b[1;32m     91\u001b[0m \u001b[0;34m\u001b[0m\u001b[0m\n\u001b[1;32m     92\u001b[0m         \u001b[0mself\u001b[0m\u001b[0;34m.\u001b[0m\u001b[0mask_for_human_input\u001b[0m \u001b[0;34m=\u001b[0m \u001b[0mbool\u001b[0m\u001b[0;34m(\u001b[0m\u001b[0minputs\u001b[0m\u001b[0;34m.\u001b[0m\u001b[0mget\u001b[0m\u001b[0;34m(\u001b[0m\u001b[0;34m\"ask_for_human_input\"\u001b[0m\u001b[0;34m,\u001b[0m \u001b[0;32mFalse\u001b[0m\u001b[0;34m)\u001b[0m\u001b[0;34m)\u001b[0m\u001b[0;34m\u001b[0m\u001b[0;34m\u001b[0m\u001b[0m\n\u001b[0;32m---> 93\u001b[0;31m         \u001b[0mformatted_answer\u001b[0m \u001b[0;34m=\u001b[0m \u001b[0mself\u001b[0m\u001b[0;34m.\u001b[0m\u001b[0m_invoke_loop\u001b[0m\u001b[0;34m(\u001b[0m\u001b[0;34m)\u001b[0m\u001b[0;34m\u001b[0m\u001b[0;34m\u001b[0m\u001b[0m\n\u001b[0m\u001b[1;32m     94\u001b[0m \u001b[0;34m\u001b[0m\u001b[0m\n\u001b[1;32m     95\u001b[0m         \u001b[0;32mif\u001b[0m \u001b[0mself\u001b[0m\u001b[0;34m.\u001b[0m\u001b[0mask_for_human_input\u001b[0m\u001b[0;34m:\u001b[0m\u001b[0;34m\u001b[0m\u001b[0;34m\u001b[0m\u001b[0m\n",
            "\u001b[0;32m/usr/local/lib/python3.10/dist-packages/crewai/agents/crew_agent_executor.py\u001b[0m in \u001b[0;36m_invoke_loop\u001b[0;34m(self, formatted_answer)\u001b[0m\n\u001b[1;32m    113\u001b[0m             \u001b[0;32mwhile\u001b[0m \u001b[0;32mnot\u001b[0m \u001b[0misinstance\u001b[0m\u001b[0;34m(\u001b[0m\u001b[0mformatted_answer\u001b[0m\u001b[0;34m,\u001b[0m \u001b[0mAgentFinish\u001b[0m\u001b[0;34m)\u001b[0m\u001b[0;34m:\u001b[0m\u001b[0;34m\u001b[0m\u001b[0;34m\u001b[0m\u001b[0m\n\u001b[1;32m    114\u001b[0m                 \u001b[0;32mif\u001b[0m \u001b[0;32mnot\u001b[0m \u001b[0mself\u001b[0m\u001b[0;34m.\u001b[0m\u001b[0mrequest_within_rpm_limit\u001b[0m \u001b[0;32mor\u001b[0m \u001b[0mself\u001b[0m\u001b[0;34m.\u001b[0m\u001b[0mrequest_within_rpm_limit\u001b[0m\u001b[0;34m(\u001b[0m\u001b[0;34m)\u001b[0m\u001b[0;34m:\u001b[0m\u001b[0;34m\u001b[0m\u001b[0;34m\u001b[0m\u001b[0m\n\u001b[0;32m--> 115\u001b[0;31m                     answer = self.llm.call(\n\u001b[0m\u001b[1;32m    116\u001b[0m                         \u001b[0mself\u001b[0m\u001b[0;34m.\u001b[0m\u001b[0mmessages\u001b[0m\u001b[0;34m,\u001b[0m\u001b[0;34m\u001b[0m\u001b[0;34m\u001b[0m\u001b[0m\n\u001b[1;32m    117\u001b[0m                         \u001b[0mcallbacks\u001b[0m\u001b[0;34m=\u001b[0m\u001b[0mself\u001b[0m\u001b[0;34m.\u001b[0m\u001b[0mcallbacks\u001b[0m\u001b[0;34m,\u001b[0m\u001b[0;34m\u001b[0m\u001b[0;34m\u001b[0m\u001b[0m\n",
            "\u001b[0;32m/usr/local/lib/python3.10/dist-packages/crewai/llm.py\u001b[0m in \u001b[0;36mcall\u001b[0;34m(self, messages, callbacks)\u001b[0m\n\u001b[1;32m    162\u001b[0m                 \u001b[0mparams\u001b[0m \u001b[0;34m=\u001b[0m \u001b[0;34m{\u001b[0m\u001b[0mk\u001b[0m\u001b[0;34m:\u001b[0m \u001b[0mv\u001b[0m \u001b[0;32mfor\u001b[0m \u001b[0mk\u001b[0m\u001b[0;34m,\u001b[0m \u001b[0mv\u001b[0m \u001b[0;32min\u001b[0m \u001b[0mparams\u001b[0m\u001b[0;34m.\u001b[0m\u001b[0mitems\u001b[0m\u001b[0;34m(\u001b[0m\u001b[0;34m)\u001b[0m \u001b[0;32mif\u001b[0m \u001b[0mv\u001b[0m \u001b[0;32mis\u001b[0m \u001b[0;32mnot\u001b[0m \u001b[0;32mNone\u001b[0m\u001b[0;34m}\u001b[0m\u001b[0;34m\u001b[0m\u001b[0;34m\u001b[0m\u001b[0m\n\u001b[1;32m    163\u001b[0m \u001b[0;34m\u001b[0m\u001b[0m\n\u001b[0;32m--> 164\u001b[0;31m                 \u001b[0mresponse\u001b[0m \u001b[0;34m=\u001b[0m \u001b[0mlitellm\u001b[0m\u001b[0;34m.\u001b[0m\u001b[0mcompletion\u001b[0m\u001b[0;34m(\u001b[0m\u001b[0;34m**\u001b[0m\u001b[0mparams\u001b[0m\u001b[0;34m)\u001b[0m\u001b[0;34m\u001b[0m\u001b[0;34m\u001b[0m\u001b[0m\n\u001b[0m\u001b[1;32m    165\u001b[0m                 \u001b[0;32mreturn\u001b[0m \u001b[0mresponse\u001b[0m\u001b[0;34m[\u001b[0m\u001b[0;34m\"choices\"\u001b[0m\u001b[0;34m]\u001b[0m\u001b[0;34m[\u001b[0m\u001b[0;36m0\u001b[0m\u001b[0;34m]\u001b[0m\u001b[0;34m[\u001b[0m\u001b[0;34m\"message\"\u001b[0m\u001b[0;34m]\u001b[0m\u001b[0;34m[\u001b[0m\u001b[0;34m\"content\"\u001b[0m\u001b[0;34m]\u001b[0m\u001b[0;34m\u001b[0m\u001b[0;34m\u001b[0m\u001b[0m\n\u001b[1;32m    166\u001b[0m             \u001b[0;32mexcept\u001b[0m \u001b[0mException\u001b[0m \u001b[0;32mas\u001b[0m \u001b[0me\u001b[0m\u001b[0;34m:\u001b[0m\u001b[0;34m\u001b[0m\u001b[0;34m\u001b[0m\u001b[0m\n",
            "\u001b[0;32m/usr/local/lib/python3.10/dist-packages/litellm/utils.py\u001b[0m in \u001b[0;36mwrapper\u001b[0;34m(*args, **kwargs)\u001b[0m\n\u001b[1;32m    847\u001b[0m                     \u001b[0mprint_verbose\u001b[0m\u001b[0;34m(\u001b[0m\u001b[0;34mf\"Error while checking max token limit: {str(e)}\"\u001b[0m\u001b[0;34m)\u001b[0m\u001b[0;34m\u001b[0m\u001b[0;34m\u001b[0m\u001b[0m\n\u001b[1;32m    848\u001b[0m             \u001b[0;31m# MODEL CALL\u001b[0m\u001b[0;34m\u001b[0m\u001b[0;34m\u001b[0m\u001b[0m\n\u001b[0;32m--> 849\u001b[0;31m             \u001b[0mresult\u001b[0m \u001b[0;34m=\u001b[0m \u001b[0moriginal_function\u001b[0m\u001b[0;34m(\u001b[0m\u001b[0;34m*\u001b[0m\u001b[0margs\u001b[0m\u001b[0;34m,\u001b[0m \u001b[0;34m**\u001b[0m\u001b[0mkwargs\u001b[0m\u001b[0;34m)\u001b[0m\u001b[0;34m\u001b[0m\u001b[0;34m\u001b[0m\u001b[0m\n\u001b[0m\u001b[1;32m    850\u001b[0m             \u001b[0mend_time\u001b[0m \u001b[0;34m=\u001b[0m \u001b[0mdatetime\u001b[0m\u001b[0;34m.\u001b[0m\u001b[0mdatetime\u001b[0m\u001b[0;34m.\u001b[0m\u001b[0mnow\u001b[0m\u001b[0;34m(\u001b[0m\u001b[0;34m)\u001b[0m\u001b[0;34m\u001b[0m\u001b[0;34m\u001b[0m\u001b[0m\n\u001b[1;32m    851\u001b[0m             \u001b[0;32mif\u001b[0m \u001b[0;34m\"stream\"\u001b[0m \u001b[0;32min\u001b[0m \u001b[0mkwargs\u001b[0m \u001b[0;32mand\u001b[0m \u001b[0mkwargs\u001b[0m\u001b[0;34m[\u001b[0m\u001b[0;34m\"stream\"\u001b[0m\u001b[0;34m]\u001b[0m \u001b[0;32mis\u001b[0m \u001b[0;32mTrue\u001b[0m\u001b[0;34m:\u001b[0m\u001b[0;34m\u001b[0m\u001b[0;34m\u001b[0m\u001b[0m\n",
            "\u001b[0;32m/usr/local/lib/python3.10/dist-packages/litellm/main.py\u001b[0m in \u001b[0;36mcompletion\u001b[0;34m(model, messages, timeout, temperature, top_p, n, stream, stream_options, stop, max_completion_tokens, max_tokens, modalities, prediction, audio, presence_penalty, frequency_penalty, logit_bias, user, response_format, seed, tools, tool_choice, logprobs, top_logprobs, parallel_tool_calls, deployment_id, extra_headers, functions, function_call, base_url, api_version, api_key, model_list, **kwargs)\u001b[0m\n\u001b[1;32m   1176\u001b[0m \u001b[0;34m\u001b[0m\u001b[0m\n\u001b[1;32m   1177\u001b[0m                 \u001b[0;31m## COMPLETION CALL\u001b[0m\u001b[0;34m\u001b[0m\u001b[0;34m\u001b[0m\u001b[0m\n\u001b[0;32m-> 1178\u001b[0;31m                 response = azure_chat_completions.completion(\n\u001b[0m\u001b[1;32m   1179\u001b[0m                     \u001b[0mmodel\u001b[0m\u001b[0;34m=\u001b[0m\u001b[0mmodel\u001b[0m\u001b[0;34m,\u001b[0m\u001b[0;34m\u001b[0m\u001b[0;34m\u001b[0m\u001b[0m\n\u001b[1;32m   1180\u001b[0m                     \u001b[0mmessages\u001b[0m\u001b[0;34m=\u001b[0m\u001b[0mmessages\u001b[0m\u001b[0;34m,\u001b[0m\u001b[0;34m\u001b[0m\u001b[0;34m\u001b[0m\u001b[0m\n",
            "\u001b[0;32m/usr/local/lib/python3.10/dist-packages/litellm/llms/AzureOpenAI/azure.py\u001b[0m in \u001b[0;36mcompletion\u001b[0;34m(self, model, messages, model_response, api_key, api_base, api_version, api_type, azure_ad_token, dynamic_params, print_verbose, timeout, logging_obj, optional_params, litellm_params, logger_fn, acompletion, headers, client)\u001b[0m\n\u001b[1;32m    518\u001b[0m                     )\n\u001b[1;32m    519\u001b[0m \u001b[0;34m\u001b[0m\u001b[0m\n\u001b[0;32m--> 520\u001b[0;31m                 headers, response = self.make_sync_azure_openai_chat_completion_request(\n\u001b[0m\u001b[1;32m    521\u001b[0m                     \u001b[0mazure_client\u001b[0m\u001b[0;34m=\u001b[0m\u001b[0mazure_client\u001b[0m\u001b[0;34m,\u001b[0m \u001b[0mdata\u001b[0m\u001b[0;34m=\u001b[0m\u001b[0mdata\u001b[0m\u001b[0;34m,\u001b[0m \u001b[0mtimeout\u001b[0m\u001b[0;34m=\u001b[0m\u001b[0mtimeout\u001b[0m\u001b[0;34m\u001b[0m\u001b[0;34m\u001b[0m\u001b[0m\n\u001b[1;32m    522\u001b[0m                 )\n",
            "\u001b[0;32m/usr/local/lib/python3.10/dist-packages/litellm/llms/AzureOpenAI/azure.py\u001b[0m in \u001b[0;36mmake_sync_azure_openai_chat_completion_request\u001b[0;34m(self, azure_client, data, timeout)\u001b[0m\n\u001b[1;32m    317\u001b[0m         \"\"\"\n\u001b[1;32m    318\u001b[0m         \u001b[0;32mtry\u001b[0m\u001b[0;34m:\u001b[0m\u001b[0;34m\u001b[0m\u001b[0;34m\u001b[0m\u001b[0m\n\u001b[0;32m--> 319\u001b[0;31m             raw_response = azure_client.chat.completions.with_raw_response.create(\n\u001b[0m\u001b[1;32m    320\u001b[0m                 \u001b[0;34m**\u001b[0m\u001b[0mdata\u001b[0m\u001b[0;34m,\u001b[0m \u001b[0mtimeout\u001b[0m\u001b[0;34m=\u001b[0m\u001b[0mtimeout\u001b[0m\u001b[0;34m\u001b[0m\u001b[0;34m\u001b[0m\u001b[0m\n\u001b[1;32m    321\u001b[0m             )\n",
            "\u001b[0;32m/usr/local/lib/python3.10/dist-packages/openai/_legacy_response.py\u001b[0m in \u001b[0;36mwrapped\u001b[0;34m(*args, **kwargs)\u001b[0m\n\u001b[1;32m    354\u001b[0m         \u001b[0mkwargs\u001b[0m\u001b[0;34m[\u001b[0m\u001b[0;34m\"extra_headers\"\u001b[0m\u001b[0;34m]\u001b[0m \u001b[0;34m=\u001b[0m \u001b[0mextra_headers\u001b[0m\u001b[0;34m\u001b[0m\u001b[0;34m\u001b[0m\u001b[0m\n\u001b[1;32m    355\u001b[0m \u001b[0;34m\u001b[0m\u001b[0m\n\u001b[0;32m--> 356\u001b[0;31m         \u001b[0;32mreturn\u001b[0m \u001b[0mcast\u001b[0m\u001b[0;34m(\u001b[0m\u001b[0mLegacyAPIResponse\u001b[0m\u001b[0;34m[\u001b[0m\u001b[0mR\u001b[0m\u001b[0;34m]\u001b[0m\u001b[0;34m,\u001b[0m \u001b[0mfunc\u001b[0m\u001b[0;34m(\u001b[0m\u001b[0;34m*\u001b[0m\u001b[0margs\u001b[0m\u001b[0;34m,\u001b[0m \u001b[0;34m**\u001b[0m\u001b[0mkwargs\u001b[0m\u001b[0;34m)\u001b[0m\u001b[0;34m)\u001b[0m\u001b[0;34m\u001b[0m\u001b[0;34m\u001b[0m\u001b[0m\n\u001b[0m\u001b[1;32m    357\u001b[0m \u001b[0;34m\u001b[0m\u001b[0m\n\u001b[1;32m    358\u001b[0m     \u001b[0;32mreturn\u001b[0m \u001b[0mwrapped\u001b[0m\u001b[0;34m\u001b[0m\u001b[0;34m\u001b[0m\u001b[0m\n",
            "\u001b[0;32m/usr/local/lib/python3.10/dist-packages/openai/_utils/_utils.py\u001b[0m in \u001b[0;36mwrapper\u001b[0;34m(*args, **kwargs)\u001b[0m\n\u001b[1;32m    273\u001b[0m                         \u001b[0mmsg\u001b[0m \u001b[0;34m=\u001b[0m \u001b[0;34mf\"Missing required argument: {quote(missing[0])}\"\u001b[0m\u001b[0;34m\u001b[0m\u001b[0;34m\u001b[0m\u001b[0m\n\u001b[1;32m    274\u001b[0m                 \u001b[0;32mraise\u001b[0m \u001b[0mTypeError\u001b[0m\u001b[0;34m(\u001b[0m\u001b[0mmsg\u001b[0m\u001b[0;34m)\u001b[0m\u001b[0;34m\u001b[0m\u001b[0;34m\u001b[0m\u001b[0m\n\u001b[0;32m--> 275\u001b[0;31m             \u001b[0;32mreturn\u001b[0m \u001b[0mfunc\u001b[0m\u001b[0;34m(\u001b[0m\u001b[0;34m*\u001b[0m\u001b[0margs\u001b[0m\u001b[0;34m,\u001b[0m \u001b[0;34m**\u001b[0m\u001b[0mkwargs\u001b[0m\u001b[0;34m)\u001b[0m\u001b[0;34m\u001b[0m\u001b[0;34m\u001b[0m\u001b[0m\n\u001b[0m\u001b[1;32m    276\u001b[0m \u001b[0;34m\u001b[0m\u001b[0m\n\u001b[1;32m    277\u001b[0m         \u001b[0;32mreturn\u001b[0m \u001b[0mwrapper\u001b[0m  \u001b[0;31m# type: ignore\u001b[0m\u001b[0;34m\u001b[0m\u001b[0;34m\u001b[0m\u001b[0m\n",
            "\u001b[0;32m/usr/local/lib/python3.10/dist-packages/openai/resources/chat/completions.py\u001b[0m in \u001b[0;36mcreate\u001b[0;34m(self, messages, model, audio, frequency_penalty, function_call, functions, logit_bias, logprobs, max_completion_tokens, max_tokens, metadata, modalities, n, parallel_tool_calls, prediction, presence_penalty, response_format, seed, service_tier, stop, store, stream, stream_options, temperature, tool_choice, tools, top_logprobs, top_p, user, extra_headers, extra_query, extra_body, timeout)\u001b[0m\n\u001b[1;32m    827\u001b[0m     ) -> ChatCompletion | Stream[ChatCompletionChunk]:\n\u001b[1;32m    828\u001b[0m         \u001b[0mvalidate_response_format\u001b[0m\u001b[0;34m(\u001b[0m\u001b[0mresponse_format\u001b[0m\u001b[0;34m)\u001b[0m\u001b[0;34m\u001b[0m\u001b[0;34m\u001b[0m\u001b[0m\n\u001b[0;32m--> 829\u001b[0;31m         return self._post(\n\u001b[0m\u001b[1;32m    830\u001b[0m             \u001b[0;34m\"/chat/completions\"\u001b[0m\u001b[0;34m,\u001b[0m\u001b[0;34m\u001b[0m\u001b[0;34m\u001b[0m\u001b[0m\n\u001b[1;32m    831\u001b[0m             body=maybe_transform(\n",
            "\u001b[0;32m/usr/local/lib/python3.10/dist-packages/openai/_base_client.py\u001b[0m in \u001b[0;36mpost\u001b[0;34m(self, path, cast_to, body, options, files, stream, stream_cls)\u001b[0m\n\u001b[1;32m   1276\u001b[0m             \u001b[0mmethod\u001b[0m\u001b[0;34m=\u001b[0m\u001b[0;34m\"post\"\u001b[0m\u001b[0;34m,\u001b[0m \u001b[0murl\u001b[0m\u001b[0;34m=\u001b[0m\u001b[0mpath\u001b[0m\u001b[0;34m,\u001b[0m \u001b[0mjson_data\u001b[0m\u001b[0;34m=\u001b[0m\u001b[0mbody\u001b[0m\u001b[0;34m,\u001b[0m \u001b[0mfiles\u001b[0m\u001b[0;34m=\u001b[0m\u001b[0mto_httpx_files\u001b[0m\u001b[0;34m(\u001b[0m\u001b[0mfiles\u001b[0m\u001b[0;34m)\u001b[0m\u001b[0;34m,\u001b[0m \u001b[0;34m**\u001b[0m\u001b[0moptions\u001b[0m\u001b[0;34m\u001b[0m\u001b[0;34m\u001b[0m\u001b[0m\n\u001b[1;32m   1277\u001b[0m         )\n\u001b[0;32m-> 1278\u001b[0;31m         \u001b[0;32mreturn\u001b[0m \u001b[0mcast\u001b[0m\u001b[0;34m(\u001b[0m\u001b[0mResponseT\u001b[0m\u001b[0;34m,\u001b[0m \u001b[0mself\u001b[0m\u001b[0;34m.\u001b[0m\u001b[0mrequest\u001b[0m\u001b[0;34m(\u001b[0m\u001b[0mcast_to\u001b[0m\u001b[0;34m,\u001b[0m \u001b[0mopts\u001b[0m\u001b[0;34m,\u001b[0m \u001b[0mstream\u001b[0m\u001b[0;34m=\u001b[0m\u001b[0mstream\u001b[0m\u001b[0;34m,\u001b[0m \u001b[0mstream_cls\u001b[0m\u001b[0;34m=\u001b[0m\u001b[0mstream_cls\u001b[0m\u001b[0;34m)\u001b[0m\u001b[0;34m)\u001b[0m\u001b[0;34m\u001b[0m\u001b[0;34m\u001b[0m\u001b[0m\n\u001b[0m\u001b[1;32m   1279\u001b[0m \u001b[0;34m\u001b[0m\u001b[0m\n\u001b[1;32m   1280\u001b[0m     def patch(\n",
            "\u001b[0;32m/usr/local/lib/python3.10/dist-packages/openai/_base_client.py\u001b[0m in \u001b[0;36mrequest\u001b[0;34m(self, cast_to, options, remaining_retries, stream, stream_cls)\u001b[0m\n\u001b[1;32m    953\u001b[0m             \u001b[0mretries_taken\u001b[0m \u001b[0;34m=\u001b[0m \u001b[0;36m0\u001b[0m\u001b[0;34m\u001b[0m\u001b[0;34m\u001b[0m\u001b[0m\n\u001b[1;32m    954\u001b[0m \u001b[0;34m\u001b[0m\u001b[0m\n\u001b[0;32m--> 955\u001b[0;31m         return self._request(\n\u001b[0m\u001b[1;32m    956\u001b[0m             \u001b[0mcast_to\u001b[0m\u001b[0;34m=\u001b[0m\u001b[0mcast_to\u001b[0m\u001b[0;34m,\u001b[0m\u001b[0;34m\u001b[0m\u001b[0;34m\u001b[0m\u001b[0m\n\u001b[1;32m    957\u001b[0m             \u001b[0moptions\u001b[0m\u001b[0;34m=\u001b[0m\u001b[0moptions\u001b[0m\u001b[0;34m,\u001b[0m\u001b[0;34m\u001b[0m\u001b[0;34m\u001b[0m\u001b[0m\n",
            "\u001b[0;32m/usr/local/lib/python3.10/dist-packages/openai/_base_client.py\u001b[0m in \u001b[0;36m_request\u001b[0;34m(self, cast_to, options, retries_taken, stream, stream_cls)\u001b[0m\n\u001b[1;32m   1042\u001b[0m             \u001b[0;32mif\u001b[0m \u001b[0mremaining_retries\u001b[0m \u001b[0;34m>\u001b[0m \u001b[0;36m0\u001b[0m \u001b[0;32mand\u001b[0m \u001b[0mself\u001b[0m\u001b[0;34m.\u001b[0m\u001b[0m_should_retry\u001b[0m\u001b[0;34m(\u001b[0m\u001b[0merr\u001b[0m\u001b[0;34m.\u001b[0m\u001b[0mresponse\u001b[0m\u001b[0;34m)\u001b[0m\u001b[0;34m:\u001b[0m\u001b[0;34m\u001b[0m\u001b[0;34m\u001b[0m\u001b[0m\n\u001b[1;32m   1043\u001b[0m                 \u001b[0merr\u001b[0m\u001b[0;34m.\u001b[0m\u001b[0mresponse\u001b[0m\u001b[0;34m.\u001b[0m\u001b[0mclose\u001b[0m\u001b[0;34m(\u001b[0m\u001b[0;34m)\u001b[0m\u001b[0;34m\u001b[0m\u001b[0;34m\u001b[0m\u001b[0m\n\u001b[0;32m-> 1044\u001b[0;31m                 return self._retry_request(\n\u001b[0m\u001b[1;32m   1045\u001b[0m                     \u001b[0minput_options\u001b[0m\u001b[0;34m,\u001b[0m\u001b[0;34m\u001b[0m\u001b[0;34m\u001b[0m\u001b[0m\n\u001b[1;32m   1046\u001b[0m                     \u001b[0mcast_to\u001b[0m\u001b[0;34m,\u001b[0m\u001b[0;34m\u001b[0m\u001b[0;34m\u001b[0m\u001b[0m\n",
            "\u001b[0;32m/usr/local/lib/python3.10/dist-packages/openai/_base_client.py\u001b[0m in \u001b[0;36m_retry_request\u001b[0;34m(self, options, cast_to, retries_taken, response_headers, stream, stream_cls)\u001b[0m\n\u001b[1;32m   1089\u001b[0m         \u001b[0;31m# In a synchronous context we are blocking the entire thread. Up to the library user to run the client in a\u001b[0m\u001b[0;34m\u001b[0m\u001b[0;34m\u001b[0m\u001b[0m\n\u001b[1;32m   1090\u001b[0m         \u001b[0;31m# different thread if necessary.\u001b[0m\u001b[0;34m\u001b[0m\u001b[0;34m\u001b[0m\u001b[0m\n\u001b[0;32m-> 1091\u001b[0;31m         \u001b[0mtime\u001b[0m\u001b[0;34m.\u001b[0m\u001b[0msleep\u001b[0m\u001b[0;34m(\u001b[0m\u001b[0mtimeout\u001b[0m\u001b[0;34m)\u001b[0m\u001b[0;34m\u001b[0m\u001b[0;34m\u001b[0m\u001b[0m\n\u001b[0m\u001b[1;32m   1092\u001b[0m \u001b[0;34m\u001b[0m\u001b[0m\n\u001b[1;32m   1093\u001b[0m         return self._request(\n",
            "\u001b[0;31mKeyboardInterrupt\u001b[0m: "
          ]
        }
      ]
    },
    {
      "cell_type": "code",
      "source": [
        "## teste isolado"
      ],
      "metadata": {
        "id": "0rgyp1yYUmS-"
      },
      "execution_count": 35,
      "outputs": []
    },
    {
      "cell_type": "code",
      "source": [
        "from crewai_tools import PDFSearchTool\n",
        "\n",
        "pdf_tool = PDFSearchTool()\n",
        "query = \"Nome do Vendedor\"\n",
        "pdf_path = \"/content/paths/pdf/Pedido 11398_24 Lar - Friendly Mate.pdf\"\n",
        "\n",
        "try:\n",
        "    resultado = pdf_tool.run({\"query\": query, \"pdf\": pdf_path})\n",
        "    print(\"Resultado da busca no PDF:\", resultado)\n",
        "except Exception as e:\n",
        "    print(f\"Erro ao usar a ferramenta: {e}\")\n"
      ],
      "metadata": {
        "colab": {
          "base_uri": "https://localhost:8080/"
        },
        "id": "K7YPIObrc047",
        "outputId": "8a95cbac-0564-4fba-b34e-f149488fd7b3"
      },
      "execution_count": 37,
      "outputs": [
        {
          "output_type": "stream",
          "name": "stdout",
          "text": [
            "Using Tool: Search a PDF's content\n",
            "Erro ao usar a ferramenta: Expected document to be a str, got {'query': 'Nome do Vendedor', 'pdf': '/content/paths/pdf/Pedido 11398_24 Lar - Friendly Mate.pdf'} in query.\n"
          ]
        }
      ]
    }
  ]
}